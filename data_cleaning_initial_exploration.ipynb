{
 "cells": [
  {
   "cell_type": "code",
   "execution_count": 26,
   "metadata": {},
   "outputs": [],
   "source": [
    "import pandas as pd\n",
    "import numpy as np\n",
    "\n",
    "import matplotlib.pyplot as plt\n",
    "import math\n",
    "import seaborn as sns"
   ]
  },
  {
   "cell_type": "code",
   "execution_count": 27,
   "metadata": {},
   "outputs": [
    {
     "name": "stderr",
     "output_type": "stream",
     "text": [
      "/Users/melissamunz/anaconda3/lib/python3.7/site-packages/IPython/core/interactiveshell.py:3057: DtypeWarning: Columns (9,10,21,43) have mixed types. Specify dtype option on import or set low_memory=False.\n",
      "  interactivity=interactivity, compiler=compiler, result=result)\n"
     ]
    }
   ],
   "source": [
    "df = pd.read_csv('nyc_bird_data_Mar_2020.txt', sep=\"\\t\")"
   ]
  },
  {
   "cell_type": "code",
   "execution_count": 28,
   "metadata": {},
   "outputs": [
    {
     "data": {
      "text/plain": [
       "array(['New York'], dtype=object)"
      ]
     },
     "execution_count": 28,
     "metadata": {},
     "output_type": "execute_result"
    }
   ],
   "source": [
    "df['COUNTY'].unique()"
   ]
  },
  {
   "cell_type": "markdown",
   "metadata": {},
   "source": [
    "# **Initial Data Exploration:**"
   ]
  },
  {
   "cell_type": "code",
   "execution_count": 29,
   "metadata": {
    "scrolled": true
   },
   "outputs": [
    {
     "data": {
      "text/html": [
       "<div>\n",
       "<style scoped>\n",
       "    .dataframe tbody tr th:only-of-type {\n",
       "        vertical-align: middle;\n",
       "    }\n",
       "\n",
       "    .dataframe tbody tr th {\n",
       "        vertical-align: top;\n",
       "    }\n",
       "\n",
       "    .dataframe thead th {\n",
       "        text-align: right;\n",
       "    }\n",
       "</style>\n",
       "<table border=\"1\" class=\"dataframe\">\n",
       "  <thead>\n",
       "    <tr style=\"text-align: right;\">\n",
       "      <th></th>\n",
       "      <th>GLOBAL UNIQUE IDENTIFIER</th>\n",
       "      <th>LAST EDITED DATE</th>\n",
       "      <th>TAXONOMIC ORDER</th>\n",
       "      <th>CATEGORY</th>\n",
       "      <th>COMMON NAME</th>\n",
       "      <th>SCIENTIFIC NAME</th>\n",
       "      <th>SUBSPECIES COMMON NAME</th>\n",
       "      <th>SUBSPECIES SCIENTIFIC NAME</th>\n",
       "      <th>OBSERVATION COUNT</th>\n",
       "      <th>BREEDING BIRD ATLAS CODE</th>\n",
       "      <th>...</th>\n",
       "      <th>NUMBER OBSERVERS</th>\n",
       "      <th>ALL SPECIES REPORTED</th>\n",
       "      <th>GROUP IDENTIFIER</th>\n",
       "      <th>HAS MEDIA</th>\n",
       "      <th>APPROVED</th>\n",
       "      <th>REVIEWED</th>\n",
       "      <th>REASON</th>\n",
       "      <th>TRIP COMMENTS</th>\n",
       "      <th>SPECIES COMMENTS</th>\n",
       "      <th>Unnamed: 46</th>\n",
       "    </tr>\n",
       "  </thead>\n",
       "  <tbody>\n",
       "    <tr>\n",
       "      <th>0</th>\n",
       "      <td>URN:CornellLabOfOrnithology:EBIRD:OBS786503632</td>\n",
       "      <td>2019-07-19 10:29:34</td>\n",
       "      <td>33194</td>\n",
       "      <td>species</td>\n",
       "      <td>Northern Cardinal</td>\n",
       "      <td>Cardinalis cardinalis</td>\n",
       "      <td>NaN</td>\n",
       "      <td>NaN</td>\n",
       "      <td>X</td>\n",
       "      <td>NaN</td>\n",
       "      <td>...</td>\n",
       "      <td>NaN</td>\n",
       "      <td>0</td>\n",
       "      <td>NaN</td>\n",
       "      <td>0</td>\n",
       "      <td>1</td>\n",
       "      <td>0</td>\n",
       "      <td>NaN</td>\n",
       "      <td>NaN</td>\n",
       "      <td>NaN</td>\n",
       "      <td>NaN</td>\n",
       "    </tr>\n",
       "    <tr>\n",
       "      <th>1</th>\n",
       "      <td>URN:CornellLabOfOrnithology:EBIRD:OBS786499692</td>\n",
       "      <td>2019-07-19 10:15:03</td>\n",
       "      <td>5892</td>\n",
       "      <td>species</td>\n",
       "      <td>Least Sandpiper</td>\n",
       "      <td>Calidris minutilla</td>\n",
       "      <td>NaN</td>\n",
       "      <td>NaN</td>\n",
       "      <td>X</td>\n",
       "      <td>NaN</td>\n",
       "      <td>...</td>\n",
       "      <td>NaN</td>\n",
       "      <td>0</td>\n",
       "      <td>NaN</td>\n",
       "      <td>0</td>\n",
       "      <td>1</td>\n",
       "      <td>0</td>\n",
       "      <td>NaN</td>\n",
       "      <td>NaN</td>\n",
       "      <td>NaN</td>\n",
       "      <td>NaN</td>\n",
       "    </tr>\n",
       "    <tr>\n",
       "      <th>2</th>\n",
       "      <td>URN:CornellLabOfOrnithology:EBIRD:OBS786503672</td>\n",
       "      <td>2019-07-19 10:29:37</td>\n",
       "      <td>23153</td>\n",
       "      <td>species</td>\n",
       "      <td>Barn Swallow</td>\n",
       "      <td>Hirundo rustica</td>\n",
       "      <td>NaN</td>\n",
       "      <td>NaN</td>\n",
       "      <td>X</td>\n",
       "      <td>NaN</td>\n",
       "      <td>...</td>\n",
       "      <td>NaN</td>\n",
       "      <td>0</td>\n",
       "      <td>NaN</td>\n",
       "      <td>0</td>\n",
       "      <td>1</td>\n",
       "      <td>0</td>\n",
       "      <td>NaN</td>\n",
       "      <td>NaN</td>\n",
       "      <td>NaN</td>\n",
       "      <td>NaN</td>\n",
       "    </tr>\n",
       "    <tr>\n",
       "      <th>3</th>\n",
       "      <td>URN:CornellLabOfOrnithology:EBIRD:OBS786503655</td>\n",
       "      <td>2019-07-19 10:29:35</td>\n",
       "      <td>26287</td>\n",
       "      <td>species</td>\n",
       "      <td>Carolina Wren</td>\n",
       "      <td>Thryothorus ludovicianus</td>\n",
       "      <td>NaN</td>\n",
       "      <td>NaN</td>\n",
       "      <td>X</td>\n",
       "      <td>NaN</td>\n",
       "      <td>...</td>\n",
       "      <td>NaN</td>\n",
       "      <td>0</td>\n",
       "      <td>NaN</td>\n",
       "      <td>0</td>\n",
       "      <td>1</td>\n",
       "      <td>0</td>\n",
       "      <td>NaN</td>\n",
       "      <td>NaN</td>\n",
       "      <td>NaN</td>\n",
       "      <td>NaN</td>\n",
       "    </tr>\n",
       "    <tr>\n",
       "      <th>4</th>\n",
       "      <td>URN:CornellLabOfOrnithology:EBIRD:OBS786503665</td>\n",
       "      <td>2019-07-19 10:29:36</td>\n",
       "      <td>32501</td>\n",
       "      <td>species</td>\n",
       "      <td>Red-winged Blackbird</td>\n",
       "      <td>Agelaius phoeniceus</td>\n",
       "      <td>NaN</td>\n",
       "      <td>NaN</td>\n",
       "      <td>X</td>\n",
       "      <td>NaN</td>\n",
       "      <td>...</td>\n",
       "      <td>NaN</td>\n",
       "      <td>0</td>\n",
       "      <td>NaN</td>\n",
       "      <td>0</td>\n",
       "      <td>1</td>\n",
       "      <td>0</td>\n",
       "      <td>NaN</td>\n",
       "      <td>NaN</td>\n",
       "      <td>NaN</td>\n",
       "      <td>NaN</td>\n",
       "    </tr>\n",
       "  </tbody>\n",
       "</table>\n",
       "<p>5 rows × 47 columns</p>\n",
       "</div>"
      ],
      "text/plain": [
       "                         GLOBAL UNIQUE IDENTIFIER     LAST EDITED DATE  \\\n",
       "0  URN:CornellLabOfOrnithology:EBIRD:OBS786503632  2019-07-19 10:29:34   \n",
       "1  URN:CornellLabOfOrnithology:EBIRD:OBS786499692  2019-07-19 10:15:03   \n",
       "2  URN:CornellLabOfOrnithology:EBIRD:OBS786503672  2019-07-19 10:29:37   \n",
       "3  URN:CornellLabOfOrnithology:EBIRD:OBS786503655  2019-07-19 10:29:35   \n",
       "4  URN:CornellLabOfOrnithology:EBIRD:OBS786503665  2019-07-19 10:29:36   \n",
       "\n",
       "   TAXONOMIC ORDER CATEGORY           COMMON NAME           SCIENTIFIC NAME  \\\n",
       "0            33194  species     Northern Cardinal     Cardinalis cardinalis   \n",
       "1             5892  species       Least Sandpiper        Calidris minutilla   \n",
       "2            23153  species          Barn Swallow           Hirundo rustica   \n",
       "3            26287  species         Carolina Wren  Thryothorus ludovicianus   \n",
       "4            32501  species  Red-winged Blackbird       Agelaius phoeniceus   \n",
       "\n",
       "  SUBSPECIES COMMON NAME SUBSPECIES SCIENTIFIC NAME OBSERVATION COUNT  \\\n",
       "0                    NaN                        NaN                 X   \n",
       "1                    NaN                        NaN                 X   \n",
       "2                    NaN                        NaN                 X   \n",
       "3                    NaN                        NaN                 X   \n",
       "4                    NaN                        NaN                 X   \n",
       "\n",
       "  BREEDING BIRD ATLAS CODE  ... NUMBER OBSERVERS ALL SPECIES REPORTED  \\\n",
       "0                      NaN  ...              NaN                    0   \n",
       "1                      NaN  ...              NaN                    0   \n",
       "2                      NaN  ...              NaN                    0   \n",
       "3                      NaN  ...              NaN                    0   \n",
       "4                      NaN  ...              NaN                    0   \n",
       "\n",
       "  GROUP IDENTIFIER HAS MEDIA APPROVED REVIEWED REASON TRIP COMMENTS  \\\n",
       "0              NaN         0        1        0    NaN           NaN   \n",
       "1              NaN         0        1        0    NaN           NaN   \n",
       "2              NaN         0        1        0    NaN           NaN   \n",
       "3              NaN         0        1        0    NaN           NaN   \n",
       "4              NaN         0        1        0    NaN           NaN   \n",
       "\n",
       "  SPECIES COMMENTS  Unnamed: 46  \n",
       "0              NaN          NaN  \n",
       "1              NaN          NaN  \n",
       "2              NaN          NaN  \n",
       "3              NaN          NaN  \n",
       "4              NaN          NaN  \n",
       "\n",
       "[5 rows x 47 columns]"
      ]
     },
     "execution_count": 29,
     "metadata": {},
     "output_type": "execute_result"
    }
   ],
   "source": [
    "df.head()"
   ]
  },
  {
   "cell_type": "code",
   "execution_count": 30,
   "metadata": {},
   "outputs": [
    {
     "data": {
      "text/plain": [
       "C2    8599\n",
       "C4    6895\n",
       "C3    4596\n",
       "C1    3975\n",
       "Name: BREEDING BIRD ATLAS CATEGORY, dtype: int64"
      ]
     },
     "execution_count": 30,
     "metadata": {},
     "output_type": "execute_result"
    }
   ],
   "source": [
    "df['BREEDING BIRD ATLAS CATEGORY'].value_counts()"
   ]
  },
  {
   "cell_type": "code",
   "execution_count": 31,
   "metadata": {},
   "outputs": [
    {
     "data": {
      "text/plain": [
       "(1699064, 47)"
      ]
     },
     "execution_count": 31,
     "metadata": {},
     "output_type": "execute_result"
    }
   ],
   "source": [
    "df.shape"
   ]
  },
  {
   "cell_type": "code",
   "execution_count": 32,
   "metadata": {},
   "outputs": [
    {
     "name": "stdout",
     "output_type": "stream",
     "text": [
      "<class 'pandas.core.frame.DataFrame'>\n",
      "RangeIndex: 1699064 entries, 0 to 1699063\n",
      "Data columns (total 47 columns):\n",
      "GLOBAL UNIQUE IDENTIFIER        object\n",
      "LAST EDITED DATE                object\n",
      "TAXONOMIC ORDER                 int64\n",
      "CATEGORY                        object\n",
      "COMMON NAME                     object\n",
      "SCIENTIFIC NAME                 object\n",
      "SUBSPECIES COMMON NAME          object\n",
      "SUBSPECIES SCIENTIFIC NAME      object\n",
      "OBSERVATION COUNT               object\n",
      "BREEDING BIRD ATLAS CODE        object\n",
      "BREEDING BIRD ATLAS CATEGORY    object\n",
      "AGE/SEX                         object\n",
      "COUNTRY                         object\n",
      "COUNTRY CODE                    object\n",
      "STATE                           object\n",
      "STATE CODE                      object\n",
      "COUNTY                          object\n",
      "COUNTY CODE                     object\n",
      "IBA CODE                        object\n",
      "BCR CODE                        float64\n",
      "USFWS CODE                      float64\n",
      "ATLAS BLOCK                     object\n",
      "LOCALITY                        object\n",
      "LOCALITY ID                     object\n",
      "LOCALITY TYPE                   object\n",
      "LATITUDE                        float64\n",
      "LONGITUDE                       float64\n",
      "OBSERVATION DATE                object\n",
      "TIME OBSERVATIONS STARTED       object\n",
      "OBSERVER ID                     object\n",
      "SAMPLING EVENT IDENTIFIER       object\n",
      "PROTOCOL TYPE                   object\n",
      "PROTOCOL CODE                   object\n",
      "PROJECT CODE                    object\n",
      "DURATION MINUTES                float64\n",
      "EFFORT DISTANCE KM              float64\n",
      "EFFORT AREA HA                  float64\n",
      "NUMBER OBSERVERS                float64\n",
      "ALL SPECIES REPORTED            int64\n",
      "GROUP IDENTIFIER                object\n",
      "HAS MEDIA                       int64\n",
      "APPROVED                        int64\n",
      "REVIEWED                        int64\n",
      "REASON                          object\n",
      "TRIP COMMENTS                   object\n",
      "SPECIES COMMENTS                object\n",
      "Unnamed: 46                     float64\n",
      "dtypes: float64(9), int64(5), object(33)\n",
      "memory usage: 609.3+ MB\n"
     ]
    }
   ],
   "source": [
    "df.info()"
   ]
  },
  {
   "cell_type": "code",
   "execution_count": 33,
   "metadata": {},
   "outputs": [
    {
     "name": "stdout",
     "output_type": "stream",
     "text": [
      "GLOBAL UNIQUE IDENTIFIER              0\n",
      "LAST EDITED DATE                      0\n",
      "TAXONOMIC ORDER                       0\n",
      "CATEGORY                              0\n",
      "COMMON NAME                           0\n",
      "SCIENTIFIC NAME                       0\n",
      "SUBSPECIES COMMON NAME          1607383\n",
      "SUBSPECIES SCIENTIFIC NAME      1607383\n",
      "OBSERVATION COUNT                     0\n",
      "BREEDING BIRD ATLAS CODE        1674999\n",
      "BREEDING BIRD ATLAS CATEGORY    1674999\n",
      "AGE/SEX                         1646617\n",
      "COUNTRY                               0\n",
      "COUNTRY CODE                          0\n",
      "STATE                                 0\n",
      "STATE CODE                            0\n",
      "COUNTY                                0\n",
      "COUNTY CODE                           0\n",
      "IBA CODE                         444673\n",
      "BCR CODE                          96717\n",
      "USFWS CODE                      1699064\n",
      "ATLAS BLOCK                     1695513\n",
      "LOCALITY                              0\n",
      "LOCALITY ID                           0\n",
      "LOCALITY TYPE                         0\n",
      "LATITUDE                              0\n",
      "LONGITUDE                             0\n",
      "OBSERVATION DATE                      0\n",
      "TIME OBSERVATIONS STARTED         76232\n",
      "OBSERVER ID                           0\n",
      "SAMPLING EVENT IDENTIFIER             0\n",
      "PROTOCOL TYPE                         0\n",
      "PROTOCOL CODE                         0\n",
      "PROJECT CODE                          0\n",
      "DURATION MINUTES                 117453\n",
      "EFFORT DISTANCE KM               325799\n",
      "EFFORT AREA HA                  1655473\n",
      "NUMBER OBSERVERS                  41420\n",
      "ALL SPECIES REPORTED                  0\n",
      "GROUP IDENTIFIER                1483611\n",
      "HAS MEDIA                             0\n",
      "APPROVED                              0\n",
      "REVIEWED                              0\n",
      "REASON                          1698990\n",
      "TRIP COMMENTS                   1015914\n",
      "SPECIES COMMENTS                1464129\n",
      "Unnamed: 46                     1699064\n",
      "dtype: int64\n"
     ]
    }
   ],
   "source": [
    "# Any columns with over 1.6M missing values will be removed because it will be meaningless within the context of this large dataset.\n",
    "print(df.isna().sum())"
   ]
  },
  {
   "cell_type": "code",
   "execution_count": 34,
   "metadata": {},
   "outputs": [],
   "source": [
    "#This function will allow us to plot different columns and subsets of columns as needed for EDA:\n",
    "\n",
    "def plot_distribution(dataset, cols=5, width=20, height=15, hspace=0.2, wspace=0.5):\n",
    "    \n",
    "    #set up the seaborn style. \n",
    "    plt.style.use('seaborn-whitegrid')\n",
    "    fig = plt.figure(figsize=(width,height))\n",
    "    \n",
    "    #math.ceil() : Python number method ceil() returns ceiling value of x - the smallest integer not less than x.\n",
    "    fig.subplots_adjust(left=None, bottom=None, right=None, top=None, wspace=wspace, hspace=hspace)\n",
    "    \n",
    "    #math.ceil() : Python number method ceil() returns ceiling value of x - the smallest integer not less than x.\n",
    "    rows = math.ceil(float(dataset.shape[1]) / cols)\n",
    "    \n",
    "    #Determine vizualization type based on the data types!\n",
    "    for i, column in enumerate(dataset.columns):\n",
    "        ax = fig.add_subplot(rows, cols, i + 1)\n",
    "        ax.set_title(column)\n",
    "        if dataset.dtypes[column] == np.object:\n",
    "            g = sns.countplot(y=column, data=dataset)\n",
    "            substrings = [s.get_text()[:18] for s in g.get_yticklabels()]\n",
    "            g.set(yticklabels=substrings)\n",
    "            plt.xticks(rotation=25)\n",
    "        else:\n",
    "            g = sns.distplot(dataset[column])\n",
    "            plt.xticks(rotation=25)\n",
    "    \n",
    "# plot_distribution(observation_count, cols=1, width=20, height=20, hspace=0.45, wspace=0.5)"
   ]
  },
  {
   "cell_type": "markdown",
   "metadata": {},
   "source": [
    "# Convert to Datetime:\n"
   ]
  },
  {
   "cell_type": "code",
   "execution_count": 35,
   "metadata": {},
   "outputs": [
    {
     "data": {
      "text/plain": [
       "1082439    2017-12-31\n",
       "Name: OBSERVATION DATE, dtype: object"
      ]
     },
     "execution_count": 35,
     "metadata": {},
     "output_type": "execute_result"
    }
   ],
   "source": [
    "# Check the current formatting\n",
    "df['OBSERVATION DATE'].sample()"
   ]
  },
  {
   "cell_type": "code",
   "execution_count": 36,
   "metadata": {},
   "outputs": [],
   "source": [
    "# convert column to datetime\n",
    "df['OBSERVATION_DATE'] = pd.to_datetime(df['OBSERVATION DATE'])"
   ]
  },
  {
   "cell_type": "code",
   "execution_count": 37,
   "metadata": {},
   "outputs": [],
   "source": [
    "# create month and year columns\n",
    "df['MONTH'] = pd.DatetimeIndex(df['OBSERVATION_DATE']).month\n",
    "df['YEAR'] = pd.DatetimeIndex(df['OBSERVATION_DATE']).year"
   ]
  },
  {
   "cell_type": "markdown",
   "metadata": {},
   "source": [
    "# Fill NAN's\n",
    "\n",
    "After removing all values 1.6M + missing, remaining columns are "
   ]
  },
  {
   "cell_type": "code",
   "execution_count": 46,
   "metadata": {},
   "outputs": [
    {
     "data": {
      "text/plain": [
       "1362619    10\n",
       "Name: OBSERVATION COUNT, dtype: object"
      ]
     },
     "execution_count": 46,
     "metadata": {},
     "output_type": "execute_result"
    }
   ],
   "source": [
    "df['OBSERVATION COUNT'].sample()"
   ]
  },
  {
   "cell_type": "code",
   "execution_count": 49,
   "metadata": {},
   "outputs": [],
   "source": [
    "observation_count = df[['OBSERVATION COUNT']]"
   ]
  },
  {
   "cell_type": "code",
   "execution_count": 40,
   "metadata": {},
   "outputs": [
    {
     "data": {
      "image/png": "[encoded data removed]",
      "text/plain": [
       "<Figure size 1440x1440 with 1 Axes>"
      ]
     },
     "metadata": {},
     "output_type": "display_data"
    }
   ],
   "source": [
    "plot_distribution(observation_count, cols=1, width=20, height=20, hspace=0.45, wspace=0.5)"
   ]
  },
  {
   "cell_type": "code",
   "execution_count": 50,
   "metadata": {},
   "outputs": [],
   "source": [
    "#We will fill all the 'X' values with 1, assuming that each sighting contained AT LEAST one bird\n",
    "df['OBSERVATION_COUNT'] = df['OBSERVATION COUNT'].replace('X', '1')\n"
   ]
  },
  {
   "cell_type": "code",
   "execution_count": 52,
   "metadata": {},
   "outputs": [],
   "source": [
    "#convert OBSERVATION COUNT into a numerica value (currently an object, above)\n",
    "df['OBSERVATION_COUNT'] = pd.to_numeric(df['OBSERVATION_COUNT'])"
   ]
  },
  {
   "cell_type": "markdown",
   "metadata": {},
   "source": [
    "# **Exploring Individual Features:**"
   ]
  },
  {
   "cell_type": "markdown",
   "metadata": {},
   "source": [
    "**CATEGORY:** The category (e.g., species, hybrid, slash) assigned to this taxon in the eBird/Clements taxonomy.\n",
    "\n",
    "- Species: e.g., Tundra Swan\n",
    "\n",
    "- Hybrid: Hybrid between two species, e.g., Tundra x Trumpeter Swan (hybrid)\n",
    "\n",
    "- Intergrade: Hybrid between two subspecies or subspecies groups, e.g., Tundra Swan (Whistling x Bewick’s) \n",
    "\n",
    "- Spuh:  Genus or identification at broad level, e.g., swan sp.\n",
    "\n",
    "- Slash: Identification to Species-pair, e.g., Tundra/Trumpeter Swan\n",
    "\n",
    "- Domestic: Distinctly-plumaged domesticated varieties that may be free-flying (these do not count on personal lists) e.g., Mallard (Domestic type)\n",
    "\n",
    "- Form: Miscellaneous other taxa, including recently-described species yet to be accepted or distinctive forms that are not universally accepted, e.g., Red-tailed Hawk (abieticola), Upland Goose (Bar-breasted)"
   ]
  },
  {
   "cell_type": "code",
   "execution_count": 171,
   "metadata": {},
   "outputs": [
    {
     "name": "stdout",
     "output_type": "stream",
     "text": [
      "['species' 'form' 'domestic' 'slash' 'spuh' 'issf' 'hybrid']\n"
     ]
    }
   ],
   "source": [
    "#Review all individual categories\n",
    "\n",
    "print(df['CATEGORY'].unique())"
   ]
  },
  {
   "cell_type": "code",
   "execution_count": 172,
   "metadata": {},
   "outputs": [],
   "source": [
    "category_groups = df.groupby(df['CATEGORY']).count()"
   ]
  },
  {
   "cell_type": "code",
   "execution_count": 173,
   "metadata": {},
   "outputs": [
    {
     "data": {
      "text/html": [
       "<div>\n",
       "<style scoped>\n",
       "    .dataframe tbody tr th:only-of-type {\n",
       "        vertical-align: middle;\n",
       "    }\n",
       "\n",
       "    .dataframe tbody tr th {\n",
       "        vertical-align: top;\n",
       "    }\n",
       "\n",
       "    .dataframe thead th {\n",
       "        text-align: right;\n",
       "    }\n",
       "</style>\n",
       "<table border=\"1\" class=\"dataframe\">\n",
       "  <thead>\n",
       "    <tr style=\"text-align: right;\">\n",
       "      <th></th>\n",
       "      <th>GLOBAL UNIQUE IDENTIFIER</th>\n",
       "      <th>LAST EDITED DATE</th>\n",
       "      <th>TAXONOMIC ORDER</th>\n",
       "      <th>COMMON NAME</th>\n",
       "      <th>SCIENTIFIC NAME</th>\n",
       "      <th>SUBSPECIES COMMON NAME</th>\n",
       "      <th>SUBSPECIES SCIENTIFIC NAME</th>\n",
       "      <th>OBSERVATION COUNT</th>\n",
       "      <th>BREEDING BIRD ATLAS CODE</th>\n",
       "      <th>BREEDING BIRD ATLAS CATEGORY</th>\n",
       "      <th>...</th>\n",
       "      <th>APPROVED</th>\n",
       "      <th>REVIEWED</th>\n",
       "      <th>REASON</th>\n",
       "      <th>TRIP COMMENTS</th>\n",
       "      <th>SPECIES COMMENTS</th>\n",
       "      <th>Unnamed: 46</th>\n",
       "      <th>OBSERVATION_DATE</th>\n",
       "      <th>MONTH</th>\n",
       "      <th>YEAR</th>\n",
       "      <th>OBSERVATION_COUNT</th>\n",
       "    </tr>\n",
       "    <tr>\n",
       "      <th>CATEGORY</th>\n",
       "      <th></th>\n",
       "      <th></th>\n",
       "      <th></th>\n",
       "      <th></th>\n",
       "      <th></th>\n",
       "      <th></th>\n",
       "      <th></th>\n",
       "      <th></th>\n",
       "      <th></th>\n",
       "      <th></th>\n",
       "      <th></th>\n",
       "      <th></th>\n",
       "      <th></th>\n",
       "      <th></th>\n",
       "      <th></th>\n",
       "      <th></th>\n",
       "      <th></th>\n",
       "      <th></th>\n",
       "      <th></th>\n",
       "      <th></th>\n",
       "      <th></th>\n",
       "    </tr>\n",
       "  </thead>\n",
       "  <tbody>\n",
       "    <tr>\n",
       "      <th>domestic</th>\n",
       "      <td>59483</td>\n",
       "      <td>59483</td>\n",
       "      <td>59483</td>\n",
       "      <td>59483</td>\n",
       "      <td>59483</td>\n",
       "      <td>59053</td>\n",
       "      <td>59053</td>\n",
       "      <td>59483</td>\n",
       "      <td>460</td>\n",
       "      <td>460</td>\n",
       "      <td>...</td>\n",
       "      <td>59483</td>\n",
       "      <td>59483</td>\n",
       "      <td>0</td>\n",
       "      <td>23409</td>\n",
       "      <td>4908</td>\n",
       "      <td>0</td>\n",
       "      <td>59483</td>\n",
       "      <td>59483</td>\n",
       "      <td>59483</td>\n",
       "      <td>59483</td>\n",
       "    </tr>\n",
       "    <tr>\n",
       "      <th>form</th>\n",
       "      <td>2838</td>\n",
       "      <td>2838</td>\n",
       "      <td>2838</td>\n",
       "      <td>2838</td>\n",
       "      <td>2838</td>\n",
       "      <td>2838</td>\n",
       "      <td>2838</td>\n",
       "      <td>2838</td>\n",
       "      <td>4</td>\n",
       "      <td>4</td>\n",
       "      <td>...</td>\n",
       "      <td>2838</td>\n",
       "      <td>2838</td>\n",
       "      <td>0</td>\n",
       "      <td>1346</td>\n",
       "      <td>562</td>\n",
       "      <td>0</td>\n",
       "      <td>2838</td>\n",
       "      <td>2838</td>\n",
       "      <td>2838</td>\n",
       "      <td>2838</td>\n",
       "    </tr>\n",
       "    <tr>\n",
       "      <th>hybrid</th>\n",
       "      <td>1276</td>\n",
       "      <td>1276</td>\n",
       "      <td>1276</td>\n",
       "      <td>1276</td>\n",
       "      <td>1276</td>\n",
       "      <td>0</td>\n",
       "      <td>0</td>\n",
       "      <td>1276</td>\n",
       "      <td>4</td>\n",
       "      <td>4</td>\n",
       "      <td>...</td>\n",
       "      <td>1276</td>\n",
       "      <td>1276</td>\n",
       "      <td>0</td>\n",
       "      <td>641</td>\n",
       "      <td>195</td>\n",
       "      <td>0</td>\n",
       "      <td>1276</td>\n",
       "      <td>1276</td>\n",
       "      <td>1276</td>\n",
       "      <td>1276</td>\n",
       "    </tr>\n",
       "    <tr>\n",
       "      <th>issf</th>\n",
       "      <td>29790</td>\n",
       "      <td>29790</td>\n",
       "      <td>29790</td>\n",
       "      <td>29790</td>\n",
       "      <td>29790</td>\n",
       "      <td>29790</td>\n",
       "      <td>29790</td>\n",
       "      <td>29790</td>\n",
       "      <td>475</td>\n",
       "      <td>475</td>\n",
       "      <td>...</td>\n",
       "      <td>29790</td>\n",
       "      <td>29790</td>\n",
       "      <td>0</td>\n",
       "      <td>13367</td>\n",
       "      <td>3429</td>\n",
       "      <td>0</td>\n",
       "      <td>29790</td>\n",
       "      <td>29790</td>\n",
       "      <td>29790</td>\n",
       "      <td>29790</td>\n",
       "    </tr>\n",
       "    <tr>\n",
       "      <th>slash</th>\n",
       "      <td>1005</td>\n",
       "      <td>1005</td>\n",
       "      <td>1005</td>\n",
       "      <td>1005</td>\n",
       "      <td>1005</td>\n",
       "      <td>0</td>\n",
       "      <td>0</td>\n",
       "      <td>1005</td>\n",
       "      <td>6</td>\n",
       "      <td>6</td>\n",
       "      <td>...</td>\n",
       "      <td>1005</td>\n",
       "      <td>1005</td>\n",
       "      <td>0</td>\n",
       "      <td>390</td>\n",
       "      <td>456</td>\n",
       "      <td>0</td>\n",
       "      <td>1005</td>\n",
       "      <td>1005</td>\n",
       "      <td>1005</td>\n",
       "      <td>1005</td>\n",
       "    </tr>\n",
       "    <tr>\n",
       "      <th>species</th>\n",
       "      <td>1587872</td>\n",
       "      <td>1587872</td>\n",
       "      <td>1587872</td>\n",
       "      <td>1587872</td>\n",
       "      <td>1587872</td>\n",
       "      <td>0</td>\n",
       "      <td>0</td>\n",
       "      <td>1587872</td>\n",
       "      <td>22537</td>\n",
       "      <td>22537</td>\n",
       "      <td>...</td>\n",
       "      <td>1587872</td>\n",
       "      <td>1587872</td>\n",
       "      <td>74</td>\n",
       "      <td>636349</td>\n",
       "      <td>219655</td>\n",
       "      <td>0</td>\n",
       "      <td>1587872</td>\n",
       "      <td>1587872</td>\n",
       "      <td>1587872</td>\n",
       "      <td>1587872</td>\n",
       "    </tr>\n",
       "    <tr>\n",
       "      <th>spuh</th>\n",
       "      <td>16800</td>\n",
       "      <td>16800</td>\n",
       "      <td>16800</td>\n",
       "      <td>16800</td>\n",
       "      <td>16800</td>\n",
       "      <td>0</td>\n",
       "      <td>0</td>\n",
       "      <td>16800</td>\n",
       "      <td>579</td>\n",
       "      <td>579</td>\n",
       "      <td>...</td>\n",
       "      <td>16800</td>\n",
       "      <td>16800</td>\n",
       "      <td>0</td>\n",
       "      <td>7648</td>\n",
       "      <td>5730</td>\n",
       "      <td>0</td>\n",
       "      <td>16800</td>\n",
       "      <td>16800</td>\n",
       "      <td>16800</td>\n",
       "      <td>16800</td>\n",
       "    </tr>\n",
       "  </tbody>\n",
       "</table>\n",
       "<p>7 rows × 50 columns</p>\n",
       "</div>"
      ],
      "text/plain": [
       "          GLOBAL UNIQUE IDENTIFIER  LAST EDITED DATE  TAXONOMIC ORDER  \\\n",
       "CATEGORY                                                                \n",
       "domestic                     59483             59483            59483   \n",
       "form                          2838              2838             2838   \n",
       "hybrid                        1276              1276             1276   \n",
       "issf                         29790             29790            29790   \n",
       "slash                         1005              1005             1005   \n",
       "species                    1587872           1587872          1587872   \n",
       "spuh                         16800             16800            16800   \n",
       "\n",
       "          COMMON NAME  SCIENTIFIC NAME  SUBSPECIES COMMON NAME  \\\n",
       "CATEGORY                                                         \n",
       "domestic        59483            59483                   59053   \n",
       "form             2838             2838                    2838   \n",
       "hybrid           1276             1276                       0   \n",
       "issf            29790            29790                   29790   \n",
       "slash            1005             1005                       0   \n",
       "species       1587872          1587872                       0   \n",
       "spuh            16800            16800                       0   \n",
       "\n",
       "          SUBSPECIES SCIENTIFIC NAME  OBSERVATION COUNT  \\\n",
       "CATEGORY                                                  \n",
       "domestic                       59053              59483   \n",
       "form                            2838               2838   \n",
       "hybrid                             0               1276   \n",
       "issf                           29790              29790   \n",
       "slash                              0               1005   \n",
       "species                            0            1587872   \n",
       "spuh                               0              16800   \n",
       "\n",
       "          BREEDING BIRD ATLAS CODE  BREEDING BIRD ATLAS CATEGORY  ...  \\\n",
       "CATEGORY                                                          ...   \n",
       "domestic                       460                           460  ...   \n",
       "form                             4                             4  ...   \n",
       "hybrid                           4                             4  ...   \n",
       "issf                           475                           475  ...   \n",
       "slash                            6                             6  ...   \n",
       "species                      22537                         22537  ...   \n",
       "spuh                           579                           579  ...   \n",
       "\n",
       "          APPROVED  REVIEWED  REASON  TRIP COMMENTS  SPECIES COMMENTS  \\\n",
       "CATEGORY                                                                \n",
       "domestic     59483     59483       0          23409              4908   \n",
       "form          2838      2838       0           1346               562   \n",
       "hybrid        1276      1276       0            641               195   \n",
       "issf         29790     29790       0          13367              3429   \n",
       "slash         1005      1005       0            390               456   \n",
       "species    1587872   1587872      74         636349            219655   \n",
       "spuh         16800     16800       0           7648              5730   \n",
       "\n",
       "          Unnamed: 46  OBSERVATION_DATE    MONTH     YEAR  OBSERVATION_COUNT  \n",
       "CATEGORY                                                                      \n",
       "domestic            0             59483    59483    59483              59483  \n",
       "form                0              2838     2838     2838               2838  \n",
       "hybrid              0              1276     1276     1276               1276  \n",
       "issf                0             29790    29790    29790              29790  \n",
       "slash               0              1005     1005     1005               1005  \n",
       "species             0           1587872  1587872  1587872            1587872  \n",
       "spuh                0             16800    16800    16800              16800  \n",
       "\n",
       "[7 rows x 50 columns]"
      ]
     },
     "execution_count": 173,
     "metadata": {},
     "output_type": "execute_result"
    }
   ],
   "source": [
    "category_groups"
   ]
  },
  {
   "cell_type": "markdown",
   "metadata": {},
   "source": [
    "**COMMON NAME**: "
   ]
  },
  {
   "cell_type": "code",
   "execution_count": 174,
   "metadata": {},
   "outputs": [
    {
     "name": "stdout",
     "output_type": "stream",
     "text": [
      "There are 442 total species\n"
     ]
    }
   ],
   "source": [
    "#Review all species\n",
    "total_species = len(df['COMMON NAME'].unique())\n",
    "print(f'There are {total_species} total species')"
   ]
  },
  {
   "cell_type": "code",
   "execution_count": 175,
   "metadata": {},
   "outputs": [
    {
     "data": {
      "text/plain": [
       "258737                      Mallard\n",
       "1316669               Brown Creeper\n",
       "1389628             Red-tailed Hawk\n",
       "388362             Downy Woodpecker\n",
       "1422757               Mourning Dove\n",
       "62896       Black-and-white Warbler\n",
       "774240          Blue-winged Warbler\n",
       "1589702           Swainson's Thrush\n",
       "677087                  Rock Pigeon\n",
       "95199             Blackpoll Warbler\n",
       "111651         Red-winged Blackbird\n",
       "1180505                Canada Goose\n",
       "64397             American Redstart\n",
       "588479     Double-crested Cormorant\n",
       "799610                     Ovenbird\n",
       "721258                Cedar Waxwing\n",
       "987434                Mourning Dove\n",
       "397280                American Crow\n",
       "724188                   Ruddy Duck\n",
       "57342                 House Sparrow\n",
       "604387                 Song Sparrow\n",
       "1101448                Canada Goose\n",
       "332570       White-throated Sparrow\n",
       "1494061                     Mallard\n",
       "1180146                Canada Goose\n",
       "552677                Hermit Thrush\n",
       "77112                   Rock Pigeon\n",
       "1195865     Great Black-backed Gull\n",
       "1296987            Hooded Merganser\n",
       "286503            European Starling\n",
       "Name: COMMON NAME, dtype: object"
      ]
     },
     "execution_count": 175,
     "metadata": {},
     "output_type": "execute_result"
    }
   ],
   "source": [
    "df['COMMON NAME'].sample(30)"
   ]
  },
  {
   "cell_type": "code",
   "execution_count": 121,
   "metadata": {},
   "outputs": [
    {
     "data": {
      "text/plain": [
       "2020"
      ]
     },
     "execution_count": 121,
     "metadata": {},
     "output_type": "execute_result"
    }
   ],
   "source": [
    "# Map sightings of a single species over time:\n",
    "\n",
    "wt_sparrow = df[df['COMMON NAME'] == 'White-throated Sparrow']\n"
   ]
  },
  {
   "cell_type": "code",
   "execution_count": 124,
   "metadata": {},
   "outputs": [
    {
     "data": {
      "image/png": "[encoded data removed]",
      "text/plain": [
       "<Figure size 432x288 with 1 Axes>"
      ]
     },
     "metadata": {},
     "output_type": "display_data"
    }
   ],
   "source": [
    "import seaborn as sns\n",
    "import matplotlib.dates as mdates\n",
    "\n",
    "sns.set(style=\"darkgrid\")\n",
    "\n",
    "ax = sns.countplot(x=\"YEAR\", data=wt_sparrow)\n",
    "ax.xaxis.set_major_locator(mdates.YearLocator())\n",
    "ax.xaxis.set_major_formatter(mdates.DateFormatter('%Y'))\n",
    "\n",
    "# ax.set_xlim(1880, 2020)\n",
    "\n",
    "# plt.xticks(np.arange(1880, 2020, step=10))\n"
   ]
  },
  {
   "cell_type": "markdown",
   "metadata": {},
   "source": [
    "**OBSERVATION COUNT**:  The count of individuals made at the time of observation. If no count was made, an 'X' is used to indicate presence.\n"
   ]
  },
  {
   "cell_type": "markdown",
   "metadata": {},
   "source": [
    "# Final Dataframe for Analysis:\n"
   ]
  },
  {
   "cell_type": "markdown",
   "metadata": {},
   "source": [
    "The final dataframe will contain:\n",
    "\n",
    "Original Columns:\n",
    "- GLOBAL UNIQUE IDENTIFIER\n",
    "- CATEGORY\n",
    "- COMMON NAME\n",
    "\n",
    "Created Columns:\n",
    "- OBSERVATION_DATE\n",
    "- MONTH"
   ]
  },
  {
   "cell_type": "code",
   "execution_count": 177,
   "metadata": {},
   "outputs": [],
   "source": [
    "data = df[['GLOBAL UNIQUE IDENTIFIER', 'CATEGORY', 'COMMON NAME', 'OBSERVATION_COUNT', 'LATITUDE', 'LONGITUDE','OBSERVATION_DATE','MONTH', 'YEAR', 'OBSERVER ID', 'DURATION MINUTES', 'NUMBER OBSERVERS', 'TRIP COMMENTS', 'SPECIES COMMENTS','APPROVED']]"
   ]
  },
  {
   "cell_type": "code",
   "execution_count": 178,
   "metadata": {},
   "outputs": [
    {
     "data": {
      "text/html": [
       "<div>\n",
       "<style scoped>\n",
       "    .dataframe tbody tr th:only-of-type {\n",
       "        vertical-align: middle;\n",
       "    }\n",
       "\n",
       "    .dataframe tbody tr th {\n",
       "        vertical-align: top;\n",
       "    }\n",
       "\n",
       "    .dataframe thead th {\n",
       "        text-align: right;\n",
       "    }\n",
       "</style>\n",
       "<table border=\"1\" class=\"dataframe\">\n",
       "  <thead>\n",
       "    <tr style=\"text-align: right;\">\n",
       "      <th></th>\n",
       "      <th>GLOBAL UNIQUE IDENTIFIER</th>\n",
       "      <th>CATEGORY</th>\n",
       "      <th>COMMON NAME</th>\n",
       "      <th>OBSERVATION_COUNT</th>\n",
       "      <th>LATITUDE</th>\n",
       "      <th>LONGITUDE</th>\n",
       "      <th>OBSERVATION_DATE</th>\n",
       "      <th>MONTH</th>\n",
       "      <th>YEAR</th>\n",
       "      <th>OBSERVER ID</th>\n",
       "      <th>DURATION MINUTES</th>\n",
       "      <th>NUMBER OBSERVERS</th>\n",
       "      <th>TRIP COMMENTS</th>\n",
       "      <th>SPECIES COMMENTS</th>\n",
       "      <th>APPROVED</th>\n",
       "    </tr>\n",
       "  </thead>\n",
       "  <tbody>\n",
       "    <tr>\n",
       "      <th>0</th>\n",
       "      <td>URN:CornellLabOfOrnithology:EBIRD:OBS786503632</td>\n",
       "      <td>species</td>\n",
       "      <td>Northern Cardinal</td>\n",
       "      <td>1</td>\n",
       "      <td>40.741895</td>\n",
       "      <td>-73.989308</td>\n",
       "      <td>1880-10-23</td>\n",
       "      <td>10</td>\n",
       "      <td>1880</td>\n",
       "      <td>obsr1385587</td>\n",
       "      <td>NaN</td>\n",
       "      <td>NaN</td>\n",
       "      <td>NaN</td>\n",
       "      <td>NaN</td>\n",
       "      <td>1</td>\n",
       "    </tr>\n",
       "    <tr>\n",
       "      <th>1</th>\n",
       "      <td>URN:CornellLabOfOrnithology:EBIRD:OBS786499692</td>\n",
       "      <td>species</td>\n",
       "      <td>Least Sandpiper</td>\n",
       "      <td>1</td>\n",
       "      <td>40.741895</td>\n",
       "      <td>-73.989308</td>\n",
       "      <td>1881-05-14</td>\n",
       "      <td>5</td>\n",
       "      <td>1881</td>\n",
       "      <td>obsr1385587</td>\n",
       "      <td>NaN</td>\n",
       "      <td>NaN</td>\n",
       "      <td>NaN</td>\n",
       "      <td>NaN</td>\n",
       "      <td>1</td>\n",
       "    </tr>\n",
       "    <tr>\n",
       "      <th>2</th>\n",
       "      <td>URN:CornellLabOfOrnithology:EBIRD:OBS786503672</td>\n",
       "      <td>species</td>\n",
       "      <td>Barn Swallow</td>\n",
       "      <td>1</td>\n",
       "      <td>40.741895</td>\n",
       "      <td>-73.989308</td>\n",
       "      <td>1884-05-16</td>\n",
       "      <td>5</td>\n",
       "      <td>1884</td>\n",
       "      <td>obsr1385587</td>\n",
       "      <td>NaN</td>\n",
       "      <td>NaN</td>\n",
       "      <td>NaN</td>\n",
       "      <td>NaN</td>\n",
       "      <td>1</td>\n",
       "    </tr>\n",
       "    <tr>\n",
       "      <th>3</th>\n",
       "      <td>URN:CornellLabOfOrnithology:EBIRD:OBS786503655</td>\n",
       "      <td>species</td>\n",
       "      <td>Carolina Wren</td>\n",
       "      <td>1</td>\n",
       "      <td>40.741895</td>\n",
       "      <td>-73.989308</td>\n",
       "      <td>1884-05-13</td>\n",
       "      <td>5</td>\n",
       "      <td>1884</td>\n",
       "      <td>obsr1385587</td>\n",
       "      <td>NaN</td>\n",
       "      <td>NaN</td>\n",
       "      <td>NaN</td>\n",
       "      <td>NaN</td>\n",
       "      <td>1</td>\n",
       "    </tr>\n",
       "    <tr>\n",
       "      <th>4</th>\n",
       "      <td>URN:CornellLabOfOrnithology:EBIRD:OBS786503665</td>\n",
       "      <td>species</td>\n",
       "      <td>Red-winged Blackbird</td>\n",
       "      <td>1</td>\n",
       "      <td>40.741895</td>\n",
       "      <td>-73.989308</td>\n",
       "      <td>1884-05-01</td>\n",
       "      <td>5</td>\n",
       "      <td>1884</td>\n",
       "      <td>obsr1385587</td>\n",
       "      <td>NaN</td>\n",
       "      <td>NaN</td>\n",
       "      <td>NaN</td>\n",
       "      <td>NaN</td>\n",
       "      <td>1</td>\n",
       "    </tr>\n",
       "  </tbody>\n",
       "</table>\n",
       "</div>"
      ],
      "text/plain": [
       "                         GLOBAL UNIQUE IDENTIFIER CATEGORY  \\\n",
       "0  URN:CornellLabOfOrnithology:EBIRD:OBS786503632  species   \n",
       "1  URN:CornellLabOfOrnithology:EBIRD:OBS786499692  species   \n",
       "2  URN:CornellLabOfOrnithology:EBIRD:OBS786503672  species   \n",
       "3  URN:CornellLabOfOrnithology:EBIRD:OBS786503655  species   \n",
       "4  URN:CornellLabOfOrnithology:EBIRD:OBS786503665  species   \n",
       "\n",
       "            COMMON NAME  OBSERVATION_COUNT   LATITUDE  LONGITUDE  \\\n",
       "0     Northern Cardinal                  1  40.741895 -73.989308   \n",
       "1       Least Sandpiper                  1  40.741895 -73.989308   \n",
       "2          Barn Swallow                  1  40.741895 -73.989308   \n",
       "3         Carolina Wren                  1  40.741895 -73.989308   \n",
       "4  Red-winged Blackbird                  1  40.741895 -73.989308   \n",
       "\n",
       "  OBSERVATION_DATE  MONTH  YEAR  OBSERVER ID  DURATION MINUTES  \\\n",
       "0       1880-10-23     10  1880  obsr1385587               NaN   \n",
       "1       1881-05-14      5  1881  obsr1385587               NaN   \n",
       "2       1884-05-16      5  1884  obsr1385587               NaN   \n",
       "3       1884-05-13      5  1884  obsr1385587               NaN   \n",
       "4       1884-05-01      5  1884  obsr1385587               NaN   \n",
       "\n",
       "   NUMBER OBSERVERS TRIP COMMENTS SPECIES COMMENTS  APPROVED  \n",
       "0               NaN           NaN              NaN         1  \n",
       "1               NaN           NaN              NaN         1  \n",
       "2               NaN           NaN              NaN         1  \n",
       "3               NaN           NaN              NaN         1  \n",
       "4               NaN           NaN              NaN         1  "
      ]
     },
     "execution_count": 178,
     "metadata": {},
     "output_type": "execute_result"
    }
   ],
   "source": [
    "data.head()"
   ]
  },
  {
   "cell_type": "code",
   "execution_count": 180,
   "metadata": {},
   "outputs": [],
   "source": [
    "data.to_csv('nyc_birds.csv', index=False)"
   ]
  }
 ],
 "metadata": {
  "kernelspec": {
   "display_name": "Python 3",
   "language": "python",
   "name": "python3"
  },
  "language_info": {
   "codemirror_mode": {
    "name": "ipython",
    "version": 3
   },
   "file_extension": ".py",
   "mimetype": "text/x-python",
   "name": "python",
   "nbconvert_exporter": "python",
   "pygments_lexer": "ipython3",
   "version": "3.7.3"
  }
 },
 "nbformat": 4,
 "nbformat_minor": 2
}
