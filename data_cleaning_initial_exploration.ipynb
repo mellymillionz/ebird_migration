{
 "cells": [
  {
   "cell_type": "code",
   "execution_count": 1,
   "metadata": {},
   "outputs": [],
   "source": [
    "import pandas as pd\n",
    "import numpy as np\n",
    "\n",
    "import matplotlib.pyplot as plt\n",
    "import math\n",
    "import seaborn as sns"
   ]
  },
  {
   "cell_type": "code",
   "execution_count": 2,
   "metadata": {},
   "outputs": [
    {
     "name": "stderr",
     "output_type": "stream",
     "text": [
      "/Users/melissamunz/anaconda3/lib/python3.7/site-packages/IPython/core/interactiveshell.py:3057: DtypeWarning: Columns (9,10,21,43) have mixed types. Specify dtype option on import or set low_memory=False.\n",
      "  interactivity=interactivity, compiler=compiler, result=result)\n"
     ]
    }
   ],
   "source": [
    "df = pd.read_csv('nyc_bird_data_Mar_2020.txt', sep=\"\\t\")"
   ]
  },
  {
   "cell_type": "code",
   "execution_count": 3,
   "metadata": {},
   "outputs": [
    {
     "data": {
      "text/plain": [
       "array(['New York'], dtype=object)"
      ]
     },
     "execution_count": 3,
     "metadata": {},
     "output_type": "execute_result"
    }
   ],
   "source": [
    "df['COUNTY'].unique()"
   ]
  },
  {
   "cell_type": "markdown",
   "metadata": {},
   "source": [
    "# **Initial Data Exploration:**"
   ]
  },
  {
   "cell_type": "code",
   "execution_count": 4,
   "metadata": {
    "scrolled": true
   },
   "outputs": [
    {
     "data": {
      "text/html": [
       "<div>\n",
       "<style scoped>\n",
       "    .dataframe tbody tr th:only-of-type {\n",
       "        vertical-align: middle;\n",
       "    }\n",
       "\n",
       "    .dataframe tbody tr th {\n",
       "        vertical-align: top;\n",
       "    }\n",
       "\n",
       "    .dataframe thead th {\n",
       "        text-align: right;\n",
       "    }\n",
       "</style>\n",
       "<table border=\"1\" class=\"dataframe\">\n",
       "  <thead>\n",
       "    <tr style=\"text-align: right;\">\n",
       "      <th></th>\n",
       "      <th>GLOBAL UNIQUE IDENTIFIER</th>\n",
       "      <th>LAST EDITED DATE</th>\n",
       "      <th>TAXONOMIC ORDER</th>\n",
       "      <th>CATEGORY</th>\n",
       "      <th>COMMON NAME</th>\n",
       "      <th>SCIENTIFIC NAME</th>\n",
       "      <th>SUBSPECIES COMMON NAME</th>\n",
       "      <th>SUBSPECIES SCIENTIFIC NAME</th>\n",
       "      <th>OBSERVATION COUNT</th>\n",
       "      <th>BREEDING BIRD ATLAS CODE</th>\n",
       "      <th>...</th>\n",
       "      <th>NUMBER OBSERVERS</th>\n",
       "      <th>ALL SPECIES REPORTED</th>\n",
       "      <th>GROUP IDENTIFIER</th>\n",
       "      <th>HAS MEDIA</th>\n",
       "      <th>APPROVED</th>\n",
       "      <th>REVIEWED</th>\n",
       "      <th>REASON</th>\n",
       "      <th>TRIP COMMENTS</th>\n",
       "      <th>SPECIES COMMENTS</th>\n",
       "      <th>Unnamed: 46</th>\n",
       "    </tr>\n",
       "  </thead>\n",
       "  <tbody>\n",
       "    <tr>\n",
       "      <th>0</th>\n",
       "      <td>URN:CornellLabOfOrnithology:EBIRD:OBS786503632</td>\n",
       "      <td>2019-07-19 10:29:34</td>\n",
       "      <td>33194</td>\n",
       "      <td>species</td>\n",
       "      <td>Northern Cardinal</td>\n",
       "      <td>Cardinalis cardinalis</td>\n",
       "      <td>NaN</td>\n",
       "      <td>NaN</td>\n",
       "      <td>X</td>\n",
       "      <td>NaN</td>\n",
       "      <td>...</td>\n",
       "      <td>NaN</td>\n",
       "      <td>0</td>\n",
       "      <td>NaN</td>\n",
       "      <td>0</td>\n",
       "      <td>1</td>\n",
       "      <td>0</td>\n",
       "      <td>NaN</td>\n",
       "      <td>NaN</td>\n",
       "      <td>NaN</td>\n",
       "      <td>NaN</td>\n",
       "    </tr>\n",
       "    <tr>\n",
       "      <th>1</th>\n",
       "      <td>URN:CornellLabOfOrnithology:EBIRD:OBS786499692</td>\n",
       "      <td>2019-07-19 10:15:03</td>\n",
       "      <td>5892</td>\n",
       "      <td>species</td>\n",
       "      <td>Least Sandpiper</td>\n",
       "      <td>Calidris minutilla</td>\n",
       "      <td>NaN</td>\n",
       "      <td>NaN</td>\n",
       "      <td>X</td>\n",
       "      <td>NaN</td>\n",
       "      <td>...</td>\n",
       "      <td>NaN</td>\n",
       "      <td>0</td>\n",
       "      <td>NaN</td>\n",
       "      <td>0</td>\n",
       "      <td>1</td>\n",
       "      <td>0</td>\n",
       "      <td>NaN</td>\n",
       "      <td>NaN</td>\n",
       "      <td>NaN</td>\n",
       "      <td>NaN</td>\n",
       "    </tr>\n",
       "    <tr>\n",
       "      <th>2</th>\n",
       "      <td>URN:CornellLabOfOrnithology:EBIRD:OBS786503672</td>\n",
       "      <td>2019-07-19 10:29:37</td>\n",
       "      <td>23153</td>\n",
       "      <td>species</td>\n",
       "      <td>Barn Swallow</td>\n",
       "      <td>Hirundo rustica</td>\n",
       "      <td>NaN</td>\n",
       "      <td>NaN</td>\n",
       "      <td>X</td>\n",
       "      <td>NaN</td>\n",
       "      <td>...</td>\n",
       "      <td>NaN</td>\n",
       "      <td>0</td>\n",
       "      <td>NaN</td>\n",
       "      <td>0</td>\n",
       "      <td>1</td>\n",
       "      <td>0</td>\n",
       "      <td>NaN</td>\n",
       "      <td>NaN</td>\n",
       "      <td>NaN</td>\n",
       "      <td>NaN</td>\n",
       "    </tr>\n",
       "    <tr>\n",
       "      <th>3</th>\n",
       "      <td>URN:CornellLabOfOrnithology:EBIRD:OBS786503655</td>\n",
       "      <td>2019-07-19 10:29:35</td>\n",
       "      <td>26287</td>\n",
       "      <td>species</td>\n",
       "      <td>Carolina Wren</td>\n",
       "      <td>Thryothorus ludovicianus</td>\n",
       "      <td>NaN</td>\n",
       "      <td>NaN</td>\n",
       "      <td>X</td>\n",
       "      <td>NaN</td>\n",
       "      <td>...</td>\n",
       "      <td>NaN</td>\n",
       "      <td>0</td>\n",
       "      <td>NaN</td>\n",
       "      <td>0</td>\n",
       "      <td>1</td>\n",
       "      <td>0</td>\n",
       "      <td>NaN</td>\n",
       "      <td>NaN</td>\n",
       "      <td>NaN</td>\n",
       "      <td>NaN</td>\n",
       "    </tr>\n",
       "    <tr>\n",
       "      <th>4</th>\n",
       "      <td>URN:CornellLabOfOrnithology:EBIRD:OBS786503665</td>\n",
       "      <td>2019-07-19 10:29:36</td>\n",
       "      <td>32501</td>\n",
       "      <td>species</td>\n",
       "      <td>Red-winged Blackbird</td>\n",
       "      <td>Agelaius phoeniceus</td>\n",
       "      <td>NaN</td>\n",
       "      <td>NaN</td>\n",
       "      <td>X</td>\n",
       "      <td>NaN</td>\n",
       "      <td>...</td>\n",
       "      <td>NaN</td>\n",
       "      <td>0</td>\n",
       "      <td>NaN</td>\n",
       "      <td>0</td>\n",
       "      <td>1</td>\n",
       "      <td>0</td>\n",
       "      <td>NaN</td>\n",
       "      <td>NaN</td>\n",
       "      <td>NaN</td>\n",
       "      <td>NaN</td>\n",
       "    </tr>\n",
       "  </tbody>\n",
       "</table>\n",
       "<p>5 rows × 47 columns</p>\n",
       "</div>"
      ],
      "text/plain": [
       "                         GLOBAL UNIQUE IDENTIFIER     LAST EDITED DATE  \\\n",
       "0  URN:CornellLabOfOrnithology:EBIRD:OBS786503632  2019-07-19 10:29:34   \n",
       "1  URN:CornellLabOfOrnithology:EBIRD:OBS786499692  2019-07-19 10:15:03   \n",
       "2  URN:CornellLabOfOrnithology:EBIRD:OBS786503672  2019-07-19 10:29:37   \n",
       "3  URN:CornellLabOfOrnithology:EBIRD:OBS786503655  2019-07-19 10:29:35   \n",
       "4  URN:CornellLabOfOrnithology:EBIRD:OBS786503665  2019-07-19 10:29:36   \n",
       "\n",
       "   TAXONOMIC ORDER CATEGORY           COMMON NAME           SCIENTIFIC NAME  \\\n",
       "0            33194  species     Northern Cardinal     Cardinalis cardinalis   \n",
       "1             5892  species       Least Sandpiper        Calidris minutilla   \n",
       "2            23153  species          Barn Swallow           Hirundo rustica   \n",
       "3            26287  species         Carolina Wren  Thryothorus ludovicianus   \n",
       "4            32501  species  Red-winged Blackbird       Agelaius phoeniceus   \n",
       "\n",
       "  SUBSPECIES COMMON NAME SUBSPECIES SCIENTIFIC NAME OBSERVATION COUNT  \\\n",
       "0                    NaN                        NaN                 X   \n",
       "1                    NaN                        NaN                 X   \n",
       "2                    NaN                        NaN                 X   \n",
       "3                    NaN                        NaN                 X   \n",
       "4                    NaN                        NaN                 X   \n",
       "\n",
       "  BREEDING BIRD ATLAS CODE  ... NUMBER OBSERVERS ALL SPECIES REPORTED  \\\n",
       "0                      NaN  ...              NaN                    0   \n",
       "1                      NaN  ...              NaN                    0   \n",
       "2                      NaN  ...              NaN                    0   \n",
       "3                      NaN  ...              NaN                    0   \n",
       "4                      NaN  ...              NaN                    0   \n",
       "\n",
       "  GROUP IDENTIFIER HAS MEDIA APPROVED REVIEWED REASON TRIP COMMENTS  \\\n",
       "0              NaN         0        1        0    NaN           NaN   \n",
       "1              NaN         0        1        0    NaN           NaN   \n",
       "2              NaN         0        1        0    NaN           NaN   \n",
       "3              NaN         0        1        0    NaN           NaN   \n",
       "4              NaN         0        1        0    NaN           NaN   \n",
       "\n",
       "  SPECIES COMMENTS  Unnamed: 46  \n",
       "0              NaN          NaN  \n",
       "1              NaN          NaN  \n",
       "2              NaN          NaN  \n",
       "3              NaN          NaN  \n",
       "4              NaN          NaN  \n",
       "\n",
       "[5 rows x 47 columns]"
      ]
     },
     "execution_count": 4,
     "metadata": {},
     "output_type": "execute_result"
    }
   ],
   "source": [
    "df.head()"
   ]
  },
  {
   "cell_type": "code",
   "execution_count": 5,
   "metadata": {},
   "outputs": [
    {
     "data": {
      "text/plain": [
       "H     1503578\n",
       "P      185644\n",
       "PC       8865\n",
       "T         977\n",
       "Name: LOCALITY TYPE, dtype: int64"
      ]
     },
     "execution_count": 5,
     "metadata": {},
     "output_type": "execute_result"
    }
   ],
   "source": [
    "df['LOCALITY TYPE'].value_counts()"
   ]
  },
  {
   "cell_type": "code",
   "execution_count": 6,
   "metadata": {},
   "outputs": [
    {
     "data": {
      "text/plain": [
       "(1699064, 47)"
      ]
     },
     "execution_count": 6,
     "metadata": {},
     "output_type": "execute_result"
    }
   ],
   "source": [
    "df.shape"
   ]
  },
  {
   "cell_type": "code",
   "execution_count": 7,
   "metadata": {},
   "outputs": [
    {
     "name": "stdout",
     "output_type": "stream",
     "text": [
      "<class 'pandas.core.frame.DataFrame'>\n",
      "RangeIndex: 1699064 entries, 0 to 1699063\n",
      "Data columns (total 47 columns):\n",
      "GLOBAL UNIQUE IDENTIFIER        object\n",
      "LAST EDITED DATE                object\n",
      "TAXONOMIC ORDER                 int64\n",
      "CATEGORY                        object\n",
      "COMMON NAME                     object\n",
      "SCIENTIFIC NAME                 object\n",
      "SUBSPECIES COMMON NAME          object\n",
      "SUBSPECIES SCIENTIFIC NAME      object\n",
      "OBSERVATION COUNT               object\n",
      "BREEDING BIRD ATLAS CODE        object\n",
      "BREEDING BIRD ATLAS CATEGORY    object\n",
      "AGE/SEX                         object\n",
      "COUNTRY                         object\n",
      "COUNTRY CODE                    object\n",
      "STATE                           object\n",
      "STATE CODE                      object\n",
      "COUNTY                          object\n",
      "COUNTY CODE                     object\n",
      "IBA CODE                        object\n",
      "BCR CODE                        float64\n",
      "USFWS CODE                      float64\n",
      "ATLAS BLOCK                     object\n",
      "LOCALITY                        object\n",
      "LOCALITY ID                     object\n",
      "LOCALITY TYPE                   object\n",
      "LATITUDE                        float64\n",
      "LONGITUDE                       float64\n",
      "OBSERVATION DATE                object\n",
      "TIME OBSERVATIONS STARTED       object\n",
      "OBSERVER ID                     object\n",
      "SAMPLING EVENT IDENTIFIER       object\n",
      "PROTOCOL TYPE                   object\n",
      "PROTOCOL CODE                   object\n",
      "PROJECT CODE                    object\n",
      "DURATION MINUTES                float64\n",
      "EFFORT DISTANCE KM              float64\n",
      "EFFORT AREA HA                  float64\n",
      "NUMBER OBSERVERS                float64\n",
      "ALL SPECIES REPORTED            int64\n",
      "GROUP IDENTIFIER                object\n",
      "HAS MEDIA                       int64\n",
      "APPROVED                        int64\n",
      "REVIEWED                        int64\n",
      "REASON                          object\n",
      "TRIP COMMENTS                   object\n",
      "SPECIES COMMENTS                object\n",
      "Unnamed: 46                     float64\n",
      "dtypes: float64(9), int64(5), object(33)\n",
      "memory usage: 609.3+ MB\n"
     ]
    }
   ],
   "source": [
    "df.info()"
   ]
  },
  {
   "cell_type": "code",
   "execution_count": 8,
   "metadata": {},
   "outputs": [
    {
     "name": "stdout",
     "output_type": "stream",
     "text": [
      "GLOBAL UNIQUE IDENTIFIER              0\n",
      "LAST EDITED DATE                      0\n",
      "TAXONOMIC ORDER                       0\n",
      "CATEGORY                              0\n",
      "COMMON NAME                           0\n",
      "SCIENTIFIC NAME                       0\n",
      "SUBSPECIES COMMON NAME          1607383\n",
      "SUBSPECIES SCIENTIFIC NAME      1607383\n",
      "OBSERVATION COUNT                     0\n",
      "BREEDING BIRD ATLAS CODE        1674999\n",
      "BREEDING BIRD ATLAS CATEGORY    1674999\n",
      "AGE/SEX                         1646617\n",
      "COUNTRY                               0\n",
      "COUNTRY CODE                          0\n",
      "STATE                                 0\n",
      "STATE CODE                            0\n",
      "COUNTY                                0\n",
      "COUNTY CODE                           0\n",
      "IBA CODE                         444673\n",
      "BCR CODE                          96717\n",
      "USFWS CODE                      1699064\n",
      "ATLAS BLOCK                     1695513\n",
      "LOCALITY                              0\n",
      "LOCALITY ID                           0\n",
      "LOCALITY TYPE                         0\n",
      "LATITUDE                              0\n",
      "LONGITUDE                             0\n",
      "OBSERVATION DATE                      0\n",
      "TIME OBSERVATIONS STARTED         76232\n",
      "OBSERVER ID                           0\n",
      "SAMPLING EVENT IDENTIFIER             0\n",
      "PROTOCOL TYPE                         0\n",
      "PROTOCOL CODE                         0\n",
      "PROJECT CODE                          0\n",
      "DURATION MINUTES                 117453\n",
      "EFFORT DISTANCE KM               325799\n",
      "EFFORT AREA HA                  1655473\n",
      "NUMBER OBSERVERS                  41420\n",
      "ALL SPECIES REPORTED                  0\n",
      "GROUP IDENTIFIER                1483611\n",
      "HAS MEDIA                             0\n",
      "APPROVED                              0\n",
      "REVIEWED                              0\n",
      "REASON                          1698990\n",
      "TRIP COMMENTS                   1015914\n",
      "SPECIES COMMENTS                1464129\n",
      "Unnamed: 46                     1699064\n",
      "dtype: int64\n"
     ]
    }
   ],
   "source": [
    "# Any columns with over 1.6M missing values will be removed because it will be meaningless within the context of this large dataset.\n",
    "print(df.isna().sum())"
   ]
  },
  {
   "cell_type": "code",
   "execution_count": null,
   "metadata": {},
   "outputs": [],
   "source": []
  },
  {
   "cell_type": "code",
   "execution_count": 9,
   "metadata": {},
   "outputs": [],
   "source": [
    "#This function will allow us to plot different columns and subsets of columns as needed for EDA:\n",
    "\n",
    "def plot_distribution(dataset, cols=5, width=20, height=15, hspace=0.2, wspace=0.5):\n",
    "    \n",
    "    #set up the seaborn style. \n",
    "    plt.style.use('seaborn-whitegrid')\n",
    "    fig = plt.figure(figsize=(width,height))\n",
    "    \n",
    "    #math.ceil() : Python number method ceil() returns ceiling value of x - the smallest integer not less than x.\n",
    "    fig.subplots_adjust(left=None, bottom=None, right=None, top=None, wspace=wspace, hspace=hspace)\n",
    "    \n",
    "    #math.ceil() : Python number method ceil() returns ceiling value of x - the smallest integer not less than x.\n",
    "    rows = math.ceil(float(dataset.shape[1]) / cols)\n",
    "    \n",
    "    #Determine vizualization type based on the data types!\n",
    "    for i, column in enumerate(dataset.columns):\n",
    "        ax = fig.add_subplot(rows, cols, i + 1)\n",
    "        ax.set_title(column)\n",
    "        if dataset.dtypes[column] == np.object:\n",
    "            g = sns.countplot(y=column, data=dataset)\n",
    "            substrings = [s.get_text()[:18] for s in g.get_yticklabels()]\n",
    "            g.set(yticklabels=substrings)\n",
    "            plt.xticks(rotation=25)\n",
    "        else:\n",
    "            g = sns.distplot(dataset[column])\n",
    "            plt.xticks(rotation=25)\n",
    "    \n",
    "# plot_distribution(observation_count, cols=1, width=20, height=20, hspace=0.45, wspace=0.5)"
   ]
  },
  {
   "cell_type": "markdown",
   "metadata": {},
   "source": [
    "# Convert to Datetime:\n"
   ]
  },
  {
   "cell_type": "code",
   "execution_count": 10,
   "metadata": {},
   "outputs": [
    {
     "data": {
      "text/plain": [
       "847749    2016-10-25\n",
       "Name: OBSERVATION DATE, dtype: object"
      ]
     },
     "execution_count": 10,
     "metadata": {},
     "output_type": "execute_result"
    }
   ],
   "source": [
    "# Check the current formatting\n",
    "df['OBSERVATION DATE'].sample()"
   ]
  },
  {
   "cell_type": "code",
   "execution_count": 11,
   "metadata": {},
   "outputs": [],
   "source": [
    "# convert column to datetime\n",
    "df['OBSERVATION_DATE'] = pd.to_datetime(df['OBSERVATION DATE'])"
   ]
  },
  {
   "cell_type": "code",
   "execution_count": 12,
   "metadata": {},
   "outputs": [],
   "source": [
    "observation_date = df[['OBSERVATION DATE']]"
   ]
  },
  {
   "cell_type": "code",
   "execution_count": 13,
   "metadata": {},
   "outputs": [
    {
     "data": {
      "image/png": "[encoded data removed]",
      "text/plain": [
       "<Figure size 504x360 with 1 Axes>"
      ]
     },
     "metadata": {},
     "output_type": "display_data"
    }
   ],
   "source": [
    "plot_distribution(observation_date, cols=1, width=7, height=5, hspace=0.45, wspace=0.5)"
   ]
  },
  {
   "cell_type": "code",
   "execution_count": 14,
   "metadata": {},
   "outputs": [],
   "source": [
    "# create month and year columns\n",
    "df['MONTH'] = pd.DatetimeIndex(df['OBSERVATION_DATE']).month\n",
    "df['YEAR'] = pd.DatetimeIndex(df['OBSERVATION_DATE']).year"
   ]
  },
  {
   "cell_type": "markdown",
   "metadata": {},
   "source": [
    "# IMPUTATION\n",
    "\n",
    "After removing all values 1.6M + missing."
   ]
  },
  {
   "cell_type": "markdown",
   "metadata": {},
   "source": [
    "**OBSERVATION COUNT**\n",
    "\n",
    "This needs to be numeric column so we need to first covert the 'X' into a number."
   ]
  },
  {
   "cell_type": "code",
   "execution_count": 15,
   "metadata": {},
   "outputs": [
    {
     "data": {
      "text/plain": [
       "1509316    3\n",
       "Name: OBSERVATION COUNT, dtype: object"
      ]
     },
     "execution_count": 15,
     "metadata": {},
     "output_type": "execute_result"
    }
   ],
   "source": [
    "#Currently Observation Count is an object instead of numeric\n",
    "df['OBSERVATION COUNT'].sample()"
   ]
  },
  {
   "cell_type": "code",
   "execution_count": 16,
   "metadata": {},
   "outputs": [
    {
     "data": {
      "text/plain": [
       "1     526989\n",
       "2     259059\n",
       "X     206352\n",
       "3     126040\n",
       "4      96053\n",
       "5      70508\n",
       "6      57157\n",
       "8      38669\n",
       "10     38244\n",
       "7      26346\n",
       "Name: OBSERVATION COUNT, dtype: int64"
      ]
     },
     "execution_count": 16,
     "metadata": {},
     "output_type": "execute_result"
    }
   ],
   "source": [
    "#We can see that 'X' is the THIRD most popular choice\n",
    "df['OBSERVATION COUNT'].value_counts().head(10)"
   ]
  },
  {
   "cell_type": "code",
   "execution_count": 17,
   "metadata": {},
   "outputs": [],
   "source": [
    "#We will fill all the 'X' values with 1, assuming that each sighting included at LEAST 1 bird\n",
    "df['OBSERVATION_COUNT'] = df['OBSERVATION COUNT'].replace('X', '1')\n"
   ]
  },
  {
   "cell_type": "code",
   "execution_count": 18,
   "metadata": {},
   "outputs": [],
   "source": [
    "#convert OBSERVATION COUNT into a numerica value (currently an object, above)\n",
    "df['OBSERVATION_COUNT'] = pd.to_numeric(df['OBSERVATION_COUNT'])"
   ]
  },
  {
   "cell_type": "code",
   "execution_count": 19,
   "metadata": {},
   "outputs": [],
   "source": [
    "#Turn into dataframe for viz\n",
    "observation_count = df[['OBSERVATION_COUNT']]"
   ]
  },
  {
   "cell_type": "code",
   "execution_count": 20,
   "metadata": {},
   "outputs": [
    {
     "data": {
      "image/png": "[encoded data removed]",
      "text/plain": [
       "<Figure size 504x360 with 1 Axes>"
      ]
     },
     "metadata": {},
     "output_type": "display_data"
    }
   ],
   "source": [
    "plot_distribution(observation_count, cols=1, width=7, height=5, hspace=0.45, wspace=0.5)"
   ]
  },
  {
   "cell_type": "markdown",
   "metadata": {},
   "source": [
    "**NUMBER OBSERVERS**\n",
    "\n",
    "There are 41420 missing values. I want to check if most of the data for this feature began being captured before or after advent of smartphones before making a determination about how to handle. If it is just after 2005, then all analysis with this feature will be on recent data only."
   ]
  },
  {
   "cell_type": "code",
   "execution_count": 21,
   "metadata": {},
   "outputs": [
    {
     "data": {
      "text/plain": [
       "1.0       1097133\n",
       "2.0        239024\n",
       "3.0         66283\n",
       "15.0        35771\n",
       "4.0         29966\n",
       "10.0        27255\n",
       "12.0        22647\n",
       "20.0        19478\n",
       "5.0         17836\n",
       "8.0         13718\n",
       "6.0         11454\n",
       "7.0          9264\n",
       "16.0         8911\n",
       "14.0         8374\n",
       "9.0          8033\n",
       "11.0         6789\n",
       "18.0         5782\n",
       "13.0         5315\n",
       "25.0         4279\n",
       "30.0         4082\n",
       "17.0         3150\n",
       "40.0         1876\n",
       "22.0         1302\n",
       "19.0         1195\n",
       "21.0         1114\n",
       "35.0          928\n",
       "24.0          915\n",
       "50.0          860\n",
       "28.0          751\n",
       "38.0          565\n",
       "           ...   \n",
       "60.0          474\n",
       "26.0          403\n",
       "27.0          327\n",
       "44.0          272\n",
       "29.0          236\n",
       "32.0          235\n",
       "33.0          158\n",
       "45.0          121\n",
       "75.0          112\n",
       "100.0         104\n",
       "34.0           97\n",
       "201.0          71\n",
       "37.0           68\n",
       "36.0           47\n",
       "55.0           37\n",
       "126.0          35\n",
       "90.0           35\n",
       "41.0           34\n",
       "70.0           33\n",
       "63.0           32\n",
       "102.0          32\n",
       "76.0           27\n",
       "68.0           20\n",
       "42.0           11\n",
       "1432.0         10\n",
       "140.0           8\n",
       "111.0           5\n",
       "85.0            1\n",
       "150.0           1\n",
       "300.0           1\n",
       "Name: NUMBER OBSERVERS, Length: 61, dtype: int64"
      ]
     },
     "execution_count": 21,
     "metadata": {},
     "output_type": "execute_result"
    }
   ],
   "source": [
    "df['NUMBER OBSERVERS'].value_counts()"
   ]
  },
  {
   "cell_type": "code",
   "execution_count": 22,
   "metadata": {},
   "outputs": [
    {
     "data": {
      "text/plain": [
       "1.0"
      ]
     },
     "execution_count": 22,
     "metadata": {},
     "output_type": "execute_result"
    }
   ],
   "source": [
    "#The median is 1\n",
    "df['NUMBER OBSERVERS'].median()"
   ]
  },
  {
   "cell_type": "code",
   "execution_count": 23,
   "metadata": {},
   "outputs": [
    {
     "data": {
      "text/plain": [
       "41420"
      ]
     },
     "execution_count": 23,
     "metadata": {},
     "output_type": "execute_result"
    }
   ],
   "source": [
    "#Total missing values\n",
    "df['NUMBER OBSERVERS'].isna().sum()"
   ]
  },
  {
   "cell_type": "code",
   "execution_count": 24,
   "metadata": {},
   "outputs": [],
   "source": [
    "#perform inputation\n",
    "df['NUMBER OBSERVERS'] = df['NUMBER OBSERVERS'].fillna(1)"
   ]
  },
  {
   "cell_type": "code",
   "execution_count": 25,
   "metadata": {},
   "outputs": [
    {
     "data": {
      "text/plain": [
       "0"
      ]
     },
     "execution_count": 25,
     "metadata": {},
     "output_type": "execute_result"
    }
   ],
   "source": [
    "# Review missing data to make sure it was successful\n",
    "df['NUMBER OBSERVERS'].isna().sum()"
   ]
  },
  {
   "cell_type": "code",
   "execution_count": 26,
   "metadata": {},
   "outputs": [],
   "source": [
    "#turn into dataframe for viz\n",
    "num_observers = df[['NUMBER OBSERVERS']]"
   ]
  },
  {
   "cell_type": "code",
   "execution_count": 27,
   "metadata": {},
   "outputs": [
    {
     "data": {
      "text/html": [
       "<div>\n",
       "<style scoped>\n",
       "    .dataframe tbody tr th:only-of-type {\n",
       "        vertical-align: middle;\n",
       "    }\n",
       "\n",
       "    .dataframe tbody tr th {\n",
       "        vertical-align: top;\n",
       "    }\n",
       "\n",
       "    .dataframe thead th {\n",
       "        text-align: right;\n",
       "    }\n",
       "</style>\n",
       "<table border=\"1\" class=\"dataframe\">\n",
       "  <thead>\n",
       "    <tr style=\"text-align: right;\">\n",
       "      <th></th>\n",
       "      <th>NUMBER OBSERVERS</th>\n",
       "    </tr>\n",
       "  </thead>\n",
       "  <tbody>\n",
       "    <tr>\n",
       "      <th>count</th>\n",
       "      <td>1.699064e+06</td>\n",
       "    </tr>\n",
       "    <tr>\n",
       "      <th>mean</th>\n",
       "      <td>2.982697e+00</td>\n",
       "    </tr>\n",
       "    <tr>\n",
       "      <th>std</th>\n",
       "      <td>6.359018e+00</td>\n",
       "    </tr>\n",
       "    <tr>\n",
       "      <th>min</th>\n",
       "      <td>1.000000e+00</td>\n",
       "    </tr>\n",
       "    <tr>\n",
       "      <th>25%</th>\n",
       "      <td>1.000000e+00</td>\n",
       "    </tr>\n",
       "    <tr>\n",
       "      <th>50%</th>\n",
       "      <td>1.000000e+00</td>\n",
       "    </tr>\n",
       "    <tr>\n",
       "      <th>75%</th>\n",
       "      <td>2.000000e+00</td>\n",
       "    </tr>\n",
       "    <tr>\n",
       "      <th>max</th>\n",
       "      <td>1.432000e+03</td>\n",
       "    </tr>\n",
       "  </tbody>\n",
       "</table>\n",
       "</div>"
      ],
      "text/plain": [
       "       NUMBER OBSERVERS\n",
       "count      1.699064e+06\n",
       "mean       2.982697e+00\n",
       "std        6.359018e+00\n",
       "min        1.000000e+00\n",
       "25%        1.000000e+00\n",
       "50%        1.000000e+00\n",
       "75%        2.000000e+00\n",
       "max        1.432000e+03"
      ]
     },
     "execution_count": 27,
     "metadata": {},
     "output_type": "execute_result"
    }
   ],
   "source": [
    "num_observers.describe()"
   ]
  },
  {
   "cell_type": "code",
   "execution_count": 28,
   "metadata": {},
   "outputs": [
    {
     "data": {
      "image/png": "[encoded data removed]",
      "text/plain": [
       "<Figure size 504x360 with 1 Axes>"
      ]
     },
     "metadata": {},
     "output_type": "display_data"
    }
   ],
   "source": [
    "plot_distribution(num_observers, cols=1, width=7, height=5, hspace=0.45, wspace=0.5)"
   ]
  },
  {
   "cell_type": "markdown",
   "metadata": {},
   "source": [
    "**TEXT FEATURES**\n",
    "\n",
    "All NAN values will be replaced with 'NONE'"
   ]
  },
  {
   "cell_type": "code",
   "execution_count": 29,
   "metadata": {},
   "outputs": [
    {
     "name": "stdout",
     "output_type": "stream",
     "text": [
      "MISSING TRIP COMMENTS 1015914\n",
      "MISSING SPECIES COMMENTS 1464129\n"
     ]
    }
   ],
   "source": [
    "print('MISSING TRIP COMMENTS', df['TRIP COMMENTS'].isna().sum())\n",
    "print('MISSING SPECIES COMMENTS', df['SPECIES COMMENTS'].isna().sum())"
   ]
  },
  {
   "cell_type": "code",
   "execution_count": 30,
   "metadata": {},
   "outputs": [],
   "source": [
    "#Impute values\n",
    "\n",
    "df['TRIP COMMENTS'] = df['TRIP COMMENTS'].fillna('NONE')\n",
    "df['SPECIES COMMENTS'] = df['SPECIES COMMENTS'].fillna('NONE')"
   ]
  },
  {
   "cell_type": "code",
   "execution_count": 31,
   "metadata": {},
   "outputs": [
    {
     "name": "stdout",
     "output_type": "stream",
     "text": [
      "MISSING TRIP COMMENTS 0\n",
      "MISSING SPECIES COMMENTS 0\n"
     ]
    }
   ],
   "source": [
    "print('MISSING TRIP COMMENTS', df['TRIP COMMENTS'].isna().sum())\n",
    "print('MISSING SPECIES COMMENTS', df['SPECIES COMMENTS'].isna().sum())"
   ]
  },
  {
   "cell_type": "markdown",
   "metadata": {},
   "source": [
    "**DURATION MINUTES**\n",
    "\n",
    "There are 117453 missing values. I want to check if most of the data for this feature began being captured before or after advent of smartphones before making a determination about how to handle. If it is just after 2005, then all analysis with this feature will be on recent data only."
   ]
  },
  {
   "cell_type": "code",
   "execution_count": 32,
   "metadata": {},
   "outputs": [
    {
     "data": {
      "text/plain": [
       "105.0"
      ]
     },
     "execution_count": 32,
     "metadata": {},
     "output_type": "execute_result"
    }
   ],
   "source": [
    "#Median viewing lasts 105 minutes\n",
    "df['DURATION MINUTES'].median()"
   ]
  },
  {
   "cell_type": "code",
   "execution_count": 33,
   "metadata": {},
   "outputs": [],
   "source": [
    "#review count of each duration minutes column per year\n",
    "#There are more recordings for this feature more recently\n",
    "\n",
    "med_min_by_year = df.groupby(df['YEAR'])['DURATION MINUTES'].median()"
   ]
  },
  {
   "cell_type": "code",
   "execution_count": 34,
   "metadata": {},
   "outputs": [],
   "source": [
    "# df['DURATION MINUTES'] = df['DURATION MINUTES'].fillna(0)"
   ]
  },
  {
   "cell_type": "code",
   "execution_count": 35,
   "metadata": {},
   "outputs": [],
   "source": [
    "type(med_min_by_year)\n",
    "med_min_by_year_df = med_min_by_year.to_frame()"
   ]
  },
  {
   "cell_type": "code",
   "execution_count": 36,
   "metadata": {},
   "outputs": [
    {
     "ename": "ValueError",
     "evalue": "cannot convert float NaN to integer",
     "output_type": "error",
     "traceback": [
      "\u001b[0;31m---------------------------------------------------------------------------\u001b[0m",
      "\u001b[0;31mValueError\u001b[0m                                Traceback (most recent call last)",
      "\u001b[0;32m<ipython-input-36-6bb5fb23746c>\u001b[0m in \u001b[0;36m<module>\u001b[0;34m\u001b[0m\n\u001b[0;32m----> 1\u001b[0;31m \u001b[0mplot_distribution\u001b[0m\u001b[0;34m(\u001b[0m\u001b[0mmed_min_by_year_df\u001b[0m\u001b[0;34m,\u001b[0m \u001b[0mcols\u001b[0m\u001b[0;34m=\u001b[0m\u001b[0;36m1\u001b[0m\u001b[0;34m,\u001b[0m \u001b[0mwidth\u001b[0m\u001b[0;34m=\u001b[0m\u001b[0;36m7\u001b[0m\u001b[0;34m,\u001b[0m \u001b[0mheight\u001b[0m\u001b[0;34m=\u001b[0m\u001b[0;36m5\u001b[0m\u001b[0;34m,\u001b[0m \u001b[0mhspace\u001b[0m\u001b[0;34m=\u001b[0m\u001b[0;36m0.45\u001b[0m\u001b[0;34m,\u001b[0m \u001b[0mwspace\u001b[0m\u001b[0;34m=\u001b[0m\u001b[0;36m0.5\u001b[0m\u001b[0;34m)\u001b[0m\u001b[0;34m\u001b[0m\u001b[0;34m\u001b[0m\u001b[0m\n\u001b[0m",
      "\u001b[0;32m<ipython-input-9-8fc0b3152eda>\u001b[0m in \u001b[0;36mplot_distribution\u001b[0;34m(dataset, cols, width, height, hspace, wspace)\u001b[0m\n\u001b[1;32m     23\u001b[0m             \u001b[0mplt\u001b[0m\u001b[0;34m.\u001b[0m\u001b[0mxticks\u001b[0m\u001b[0;34m(\u001b[0m\u001b[0mrotation\u001b[0m\u001b[0;34m=\u001b[0m\u001b[0;36m25\u001b[0m\u001b[0;34m)\u001b[0m\u001b[0;34m\u001b[0m\u001b[0;34m\u001b[0m\u001b[0m\n\u001b[1;32m     24\u001b[0m         \u001b[0;32melse\u001b[0m\u001b[0;34m:\u001b[0m\u001b[0;34m\u001b[0m\u001b[0;34m\u001b[0m\u001b[0m\n\u001b[0;32m---> 25\u001b[0;31m             \u001b[0mg\u001b[0m \u001b[0;34m=\u001b[0m \u001b[0msns\u001b[0m\u001b[0;34m.\u001b[0m\u001b[0mdistplot\u001b[0m\u001b[0;34m(\u001b[0m\u001b[0mdataset\u001b[0m\u001b[0;34m[\u001b[0m\u001b[0mcolumn\u001b[0m\u001b[0;34m]\u001b[0m\u001b[0;34m)\u001b[0m\u001b[0;34m\u001b[0m\u001b[0;34m\u001b[0m\u001b[0m\n\u001b[0m\u001b[1;32m     26\u001b[0m             \u001b[0mplt\u001b[0m\u001b[0;34m.\u001b[0m\u001b[0mxticks\u001b[0m\u001b[0;34m(\u001b[0m\u001b[0mrotation\u001b[0m\u001b[0;34m=\u001b[0m\u001b[0;36m25\u001b[0m\u001b[0;34m)\u001b[0m\u001b[0;34m\u001b[0m\u001b[0;34m\u001b[0m\u001b[0m\n\u001b[1;32m     27\u001b[0m \u001b[0;34m\u001b[0m\u001b[0m\n",
      "\u001b[0;32m~/anaconda3/lib/python3.7/site-packages/seaborn/distributions.py\u001b[0m in \u001b[0;36mdistplot\u001b[0;34m(a, bins, hist, kde, rug, fit, hist_kws, kde_kws, rug_kws, fit_kws, color, vertical, norm_hist, axlabel, label, ax)\u001b[0m\n\u001b[1;32m    213\u001b[0m     \u001b[0;32mif\u001b[0m \u001b[0mhist\u001b[0m\u001b[0;34m:\u001b[0m\u001b[0;34m\u001b[0m\u001b[0;34m\u001b[0m\u001b[0m\n\u001b[1;32m    214\u001b[0m         \u001b[0;32mif\u001b[0m \u001b[0mbins\u001b[0m \u001b[0;32mis\u001b[0m \u001b[0;32mNone\u001b[0m\u001b[0;34m:\u001b[0m\u001b[0;34m\u001b[0m\u001b[0;34m\u001b[0m\u001b[0m\n\u001b[0;32m--> 215\u001b[0;31m             \u001b[0mbins\u001b[0m \u001b[0;34m=\u001b[0m \u001b[0mmin\u001b[0m\u001b[0;34m(\u001b[0m\u001b[0m_freedman_diaconis_bins\u001b[0m\u001b[0;34m(\u001b[0m\u001b[0ma\u001b[0m\u001b[0;34m)\u001b[0m\u001b[0;34m,\u001b[0m \u001b[0;36m50\u001b[0m\u001b[0;34m)\u001b[0m\u001b[0;34m\u001b[0m\u001b[0;34m\u001b[0m\u001b[0m\n\u001b[0m\u001b[1;32m    216\u001b[0m         \u001b[0mhist_kws\u001b[0m\u001b[0;34m.\u001b[0m\u001b[0msetdefault\u001b[0m\u001b[0;34m(\u001b[0m\u001b[0;34m\"alpha\"\u001b[0m\u001b[0;34m,\u001b[0m \u001b[0;36m0.4\u001b[0m\u001b[0;34m)\u001b[0m\u001b[0;34m\u001b[0m\u001b[0;34m\u001b[0m\u001b[0m\n\u001b[1;32m    217\u001b[0m         \u001b[0;32mif\u001b[0m \u001b[0mLooseVersion\u001b[0m\u001b[0;34m(\u001b[0m\u001b[0mmpl\u001b[0m\u001b[0;34m.\u001b[0m\u001b[0m__version__\u001b[0m\u001b[0;34m)\u001b[0m \u001b[0;34m<\u001b[0m \u001b[0mLooseVersion\u001b[0m\u001b[0;34m(\u001b[0m\u001b[0;34m\"2.2\"\u001b[0m\u001b[0;34m)\u001b[0m\u001b[0;34m:\u001b[0m\u001b[0;34m\u001b[0m\u001b[0;34m\u001b[0m\u001b[0m\n",
      "\u001b[0;32m~/anaconda3/lib/python3.7/site-packages/seaborn/distributions.py\u001b[0m in \u001b[0;36m_freedman_diaconis_bins\u001b[0;34m(a)\u001b[0m\n\u001b[1;32m     37\u001b[0m         \u001b[0;32mreturn\u001b[0m \u001b[0mint\u001b[0m\u001b[0;34m(\u001b[0m\u001b[0mnp\u001b[0m\u001b[0;34m.\u001b[0m\u001b[0msqrt\u001b[0m\u001b[0;34m(\u001b[0m\u001b[0ma\u001b[0m\u001b[0;34m.\u001b[0m\u001b[0msize\u001b[0m\u001b[0;34m)\u001b[0m\u001b[0;34m)\u001b[0m\u001b[0;34m\u001b[0m\u001b[0;34m\u001b[0m\u001b[0m\n\u001b[1;32m     38\u001b[0m     \u001b[0;32melse\u001b[0m\u001b[0;34m:\u001b[0m\u001b[0;34m\u001b[0m\u001b[0;34m\u001b[0m\u001b[0m\n\u001b[0;32m---> 39\u001b[0;31m         \u001b[0;32mreturn\u001b[0m \u001b[0mint\u001b[0m\u001b[0;34m(\u001b[0m\u001b[0mnp\u001b[0m\u001b[0;34m.\u001b[0m\u001b[0mceil\u001b[0m\u001b[0;34m(\u001b[0m\u001b[0;34m(\u001b[0m\u001b[0ma\u001b[0m\u001b[0;34m.\u001b[0m\u001b[0mmax\u001b[0m\u001b[0;34m(\u001b[0m\u001b[0;34m)\u001b[0m \u001b[0;34m-\u001b[0m \u001b[0ma\u001b[0m\u001b[0;34m.\u001b[0m\u001b[0mmin\u001b[0m\u001b[0;34m(\u001b[0m\u001b[0;34m)\u001b[0m\u001b[0;34m)\u001b[0m \u001b[0;34m/\u001b[0m \u001b[0mh\u001b[0m\u001b[0;34m)\u001b[0m\u001b[0;34m)\u001b[0m\u001b[0;34m\u001b[0m\u001b[0;34m\u001b[0m\u001b[0m\n\u001b[0m\u001b[1;32m     40\u001b[0m \u001b[0;34m\u001b[0m\u001b[0m\n\u001b[1;32m     41\u001b[0m \u001b[0;34m\u001b[0m\u001b[0m\n",
      "\u001b[0;31mValueError\u001b[0m: cannot convert float NaN to integer"
     ]
    },
    {
     "data": {
      "image/png": "[encoded data removed]",
      "text/plain": [
       "<Figure size 504x360 with 1 Axes>"
      ]
     },
     "metadata": {},
     "output_type": "display_data"
    }
   ],
   "source": [
    "plot_distribution(med_min_by_year_df, cols=1, width=7, height=5, hspace=0.45, wspace=0.5)"
   ]
  },
  {
   "cell_type": "code",
   "execution_count": null,
   "metadata": {},
   "outputs": [],
   "source": []
  },
  {
   "cell_type": "markdown",
   "metadata": {},
   "source": [
    "# **Exploring Individual Features:**"
   ]
  },
  {
   "cell_type": "markdown",
   "metadata": {},
   "source": [
    "**CATEGORY:** The category (e.g., species, hybrid, slash) assigned to this taxon in the eBird/Clements taxonomy.\n",
    "\n",
    "- Species: e.g., Tundra Swan\n",
    "\n",
    "- Hybrid: Hybrid between two species, e.g., Tundra x Trumpeter Swan (hybrid)\n",
    "\n",
    "- Intergrade: Hybrid between two subspecies or subspecies groups, e.g., Tundra Swan (Whistling x Bewick’s) \n",
    "\n",
    "- Spuh:  Genus or identification at broad level, e.g., swan sp.\n",
    "\n",
    "- Slash: Identification to Species-pair, e.g., Tundra/Trumpeter Swan\n",
    "\n",
    "- Domestic: Distinctly-plumaged domesticated varieties that may be free-flying (these do not count on personal lists) e.g., Mallard (Domestic type)\n",
    "\n",
    "- Form: Miscellaneous other taxa, including recently-described species yet to be accepted or distinctive forms that are not universally accepted, e.g., Red-tailed Hawk (abieticola), Upland Goose (Bar-breasted)"
   ]
  },
  {
   "cell_type": "code",
   "execution_count": null,
   "metadata": {},
   "outputs": [],
   "source": [
    "#Review all individual categories\n",
    "\n",
    "print(df['CATEGORY'].unique())"
   ]
  },
  {
   "cell_type": "code",
   "execution_count": null,
   "metadata": {},
   "outputs": [],
   "source": [
    "category_groups = df.groupby(df['CATEGORY']).count()"
   ]
  },
  {
   "cell_type": "code",
   "execution_count": null,
   "metadata": {},
   "outputs": [],
   "source": [
    "category_groups"
   ]
  },
  {
   "cell_type": "markdown",
   "metadata": {},
   "source": [
    "**COMMON NAME**: "
   ]
  },
  {
   "cell_type": "code",
   "execution_count": null,
   "metadata": {},
   "outputs": [],
   "source": [
    "#Review all species\n",
    "total_species = len(df['COMMON NAME'].unique())\n",
    "print(f'There are {total_species} total species')"
   ]
  },
  {
   "cell_type": "code",
   "execution_count": null,
   "metadata": {},
   "outputs": [],
   "source": [
    "df['COMMON NAME'].sample(30)"
   ]
  },
  {
   "cell_type": "code",
   "execution_count": null,
   "metadata": {},
   "outputs": [],
   "source": [
    "#Exploration for a single species\n",
    "wt_sparrow = df[df['COMMON NAME'] == 'White-throated Sparrow']"
   ]
  },
  {
   "cell_type": "code",
   "execution_count": null,
   "metadata": {},
   "outputs": [],
   "source": [
    "#Reveal general trend of sightings over time\n",
    "\n",
    "import seaborn as sns\n",
    "import matplotlib.dates as mdates\n",
    "\n",
    "sns.set(style=\"darkgrid\")\n",
    "\n",
    "ax = sns.countplot(x=\"YEAR\", data=wt_sparrow)\n",
    "ax.xaxis.set_major_locator(mdates.YearLocator())\n",
    "ax.xaxis.set_major_formatter(mdates.DateFormatter('%Y'))\n",
    "\n",
    "#There are WAY more overall sightings recently. Need to investigate more."
   ]
  },
  {
   "cell_type": "markdown",
   "metadata": {},
   "source": [
    "**LOCALITY**\n",
    "\n",
    "The reported location name for the observation. Observers can give locations their own names, or choose from existing locations\n",
    "\n",
    "FEATURE ENGINEERING: Convert into another boolean column Park/Street "
   ]
  },
  {
   "cell_type": "code",
   "execution_count": null,
   "metadata": {},
   "outputs": [],
   "source": [
    "df['LOCALITY'].value_counts().head(10)"
   ]
  },
  {
   "cell_type": "markdown",
   "metadata": {},
   "source": [
    "**LOCALITY TYPE**\n",
    "\n",
    "This code is meant to help define the type of location used, as participants in eBird can plot specific locations on a map (P), choose existing locations from a map (H), or choose to submit data for a town (T), postal code (PC), county (C), or state (S). Abbreviations: State (S), County (C), Postal/Zip Code (PC), Town (T), Hotspot (H), Personal (P)."
   ]
  },
  {
   "cell_type": "code",
   "execution_count": null,
   "metadata": {},
   "outputs": [],
   "source": [
    "df['LOCALITY TYPE'].unique()"
   ]
  },
  {
   "cell_type": "code",
   "execution_count": null,
   "metadata": {},
   "outputs": [],
   "source": [
    "df['LOCALITY TYPE'].value_counts()"
   ]
  },
  {
   "cell_type": "code",
   "execution_count": null,
   "metadata": {},
   "outputs": [],
   "source": [
    "locality_type = df[['LOCALITY TYPE']]"
   ]
  },
  {
   "cell_type": "code",
   "execution_count": null,
   "metadata": {},
   "outputs": [],
   "source": [
    "plot_distribution(locality_type, cols=1, width=7, height=5, hspace=0.45, wspace=0.5)"
   ]
  },
  {
   "cell_type": "markdown",
   "metadata": {},
   "source": [
    "**SAMPLING EVENT IDENTIFIER**"
   ]
  },
  {
   "cell_type": "code",
   "execution_count": null,
   "metadata": {},
   "outputs": [],
   "source": [
    "df['SAMPLING EVENT IDENTIFIER'].unique()"
   ]
  },
  {
   "cell_type": "markdown",
   "metadata": {},
   "source": [
    "**HAS MEDIA**\n",
    "\n",
    "Boolean value, refers to whether a particular observation is supported by rich media stored at the Cornell Lab of Ornithology's Macaulay Library.\n",
    "\n",
    "FEATURE ENGINEERING: Might be interesting to note user trends over time."
   ]
  },
  {
   "cell_type": "code",
   "execution_count": null,
   "metadata": {},
   "outputs": [],
   "source": [
    "df['HAS MEDIA'].value_counts()"
   ]
  },
  {
   "cell_type": "markdown",
   "metadata": {},
   "source": [
    "# Final Dataframe for Analysis:\n"
   ]
  },
  {
   "cell_type": "markdown",
   "metadata": {},
   "source": [
    "The final dataframe will contain:\n",
    "\n",
    "Original Columns:\n",
    "- GLOBAL UNIQUE IDENTIFIER\n",
    "- CATEGORY\n",
    "- COMMON NAME\n",
    "- OBSERVATION COUNT\n",
    "- LATITUDE\n",
    "- LONGITUDE\n",
    "- OBSERVER ID\n",
    "- NUMBER OBSERVERS\n",
    "\n",
    "- TRIP COMMENTS\n",
    "- SPECIED COMMENTS\n",
    "- APPROVED\n",
    "\n",
    "Created Columns:\n",
    "- OBSERVATION_DATE\n",
    "- MONTH\n",
    "- YEAR"
   ]
  },
  {
   "cell_type": "code",
   "execution_count": null,
   "metadata": {},
   "outputs": [],
   "source": [
    "data = df[['GLOBAL UNIQUE IDENTIFIER', 'CATEGORY', 'COMMON NAME', 'OBSERVATION_COUNT', 'LATITUDE', 'LONGITUDE','OBSERVATION_DATE','MONTH', 'YEAR', 'OBSERVER ID', 'DURATION MINUTES', 'NUMBER OBSERVERS', 'TRIP COMMENTS', 'SPECIES COMMENTS','APPROVED']]"
   ]
  },
  {
   "cell_type": "code",
   "execution_count": null,
   "metadata": {},
   "outputs": [],
   "source": [
    "data.head()"
   ]
  },
  {
   "cell_type": "code",
   "execution_count": null,
   "metadata": {},
   "outputs": [],
   "source": [
    "data.to_csv('nyc_birds.csv', index=False)"
   ]
  }
 ],
 "metadata": {
  "kernelspec": {
   "display_name": "Python 3",
   "language": "python",
   "name": "python3"
  },
  "language_info": {
   "codemirror_mode": {
    "name": "ipython",
    "version": 3
   },
   "file_extension": ".py",
   "mimetype": "text/x-python",
   "name": "python",
   "nbconvert_exporter": "python",
   "pygments_lexer": "ipython3",
   "version": "3.7.3"
  }
 },
 "nbformat": 4,
 "nbformat_minor": 2
}
