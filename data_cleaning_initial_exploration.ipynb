{
 "cells": [
  {
   "cell_type": "code",
   "execution_count": 1,
   "metadata": {},
   "outputs": [],
   "source": [
    "import pandas as pd\n",
    "import numpy as np\n",
    "\n",
    "import matplotlib.pyplot as plt\n",
    "import math\n",
    "import seaborn as sns"
   ]
  },
  {
   "cell_type": "code",
   "execution_count": 2,
   "metadata": {},
   "outputs": [
    {
     "name": "stderr",
     "output_type": "stream",
     "text": [
      "/Users/melissamunz/anaconda3/lib/python3.7/site-packages/IPython/core/interactiveshell.py:3057: DtypeWarning: Columns (9,10,21,43) have mixed types. Specify dtype option on import or set low_memory=False.\n",
      "  interactivity=interactivity, compiler=compiler, result=result)\n"
     ]
    }
   ],
   "source": [
    "df = pd.read_csv('nyc_bird_data_Mar_2020.txt', sep=\"\\t\")"
   ]
  },
  {
   "cell_type": "code",
   "execution_count": 3,
   "metadata": {},
   "outputs": [
    {
     "data": {
      "text/plain": [
       "array(['New York'], dtype=object)"
      ]
     },
     "execution_count": 3,
     "metadata": {},
     "output_type": "execute_result"
    }
   ],
   "source": [
    "df['COUNTY'].unique()"
   ]
  },
  {
   "cell_type": "markdown",
   "metadata": {},
   "source": [
    "# **Initial Data Exploration:**"
   ]
  },
  {
   "cell_type": "code",
   "execution_count": 4,
   "metadata": {
    "scrolled": true
   },
   "outputs": [
    {
     "data": {
      "text/html": [
       "<div>\n",
       "<style scoped>\n",
       "    .dataframe tbody tr th:only-of-type {\n",
       "        vertical-align: middle;\n",
       "    }\n",
       "\n",
       "    .dataframe tbody tr th {\n",
       "        vertical-align: top;\n",
       "    }\n",
       "\n",
       "    .dataframe thead th {\n",
       "        text-align: right;\n",
       "    }\n",
       "</style>\n",
       "<table border=\"1\" class=\"dataframe\">\n",
       "  <thead>\n",
       "    <tr style=\"text-align: right;\">\n",
       "      <th></th>\n",
       "      <th>GLOBAL UNIQUE IDENTIFIER</th>\n",
       "      <th>LAST EDITED DATE</th>\n",
       "      <th>TAXONOMIC ORDER</th>\n",
       "      <th>CATEGORY</th>\n",
       "      <th>COMMON NAME</th>\n",
       "      <th>SCIENTIFIC NAME</th>\n",
       "      <th>SUBSPECIES COMMON NAME</th>\n",
       "      <th>SUBSPECIES SCIENTIFIC NAME</th>\n",
       "      <th>OBSERVATION COUNT</th>\n",
       "      <th>BREEDING BIRD ATLAS CODE</th>\n",
       "      <th>...</th>\n",
       "      <th>NUMBER OBSERVERS</th>\n",
       "      <th>ALL SPECIES REPORTED</th>\n",
       "      <th>GROUP IDENTIFIER</th>\n",
       "      <th>HAS MEDIA</th>\n",
       "      <th>APPROVED</th>\n",
       "      <th>REVIEWED</th>\n",
       "      <th>REASON</th>\n",
       "      <th>TRIP COMMENTS</th>\n",
       "      <th>SPECIES COMMENTS</th>\n",
       "      <th>Unnamed: 46</th>\n",
       "    </tr>\n",
       "  </thead>\n",
       "  <tbody>\n",
       "    <tr>\n",
       "      <th>0</th>\n",
       "      <td>URN:CornellLabOfOrnithology:EBIRD:OBS786503632</td>\n",
       "      <td>2019-07-19 10:29:34</td>\n",
       "      <td>33194</td>\n",
       "      <td>species</td>\n",
       "      <td>Northern Cardinal</td>\n",
       "      <td>Cardinalis cardinalis</td>\n",
       "      <td>NaN</td>\n",
       "      <td>NaN</td>\n",
       "      <td>X</td>\n",
       "      <td>NaN</td>\n",
       "      <td>...</td>\n",
       "      <td>NaN</td>\n",
       "      <td>0</td>\n",
       "      <td>NaN</td>\n",
       "      <td>0</td>\n",
       "      <td>1</td>\n",
       "      <td>0</td>\n",
       "      <td>NaN</td>\n",
       "      <td>NaN</td>\n",
       "      <td>NaN</td>\n",
       "      <td>NaN</td>\n",
       "    </tr>\n",
       "    <tr>\n",
       "      <th>1</th>\n",
       "      <td>URN:CornellLabOfOrnithology:EBIRD:OBS786499692</td>\n",
       "      <td>2019-07-19 10:15:03</td>\n",
       "      <td>5892</td>\n",
       "      <td>species</td>\n",
       "      <td>Least Sandpiper</td>\n",
       "      <td>Calidris minutilla</td>\n",
       "      <td>NaN</td>\n",
       "      <td>NaN</td>\n",
       "      <td>X</td>\n",
       "      <td>NaN</td>\n",
       "      <td>...</td>\n",
       "      <td>NaN</td>\n",
       "      <td>0</td>\n",
       "      <td>NaN</td>\n",
       "      <td>0</td>\n",
       "      <td>1</td>\n",
       "      <td>0</td>\n",
       "      <td>NaN</td>\n",
       "      <td>NaN</td>\n",
       "      <td>NaN</td>\n",
       "      <td>NaN</td>\n",
       "    </tr>\n",
       "    <tr>\n",
       "      <th>2</th>\n",
       "      <td>URN:CornellLabOfOrnithology:EBIRD:OBS786503672</td>\n",
       "      <td>2019-07-19 10:29:37</td>\n",
       "      <td>23153</td>\n",
       "      <td>species</td>\n",
       "      <td>Barn Swallow</td>\n",
       "      <td>Hirundo rustica</td>\n",
       "      <td>NaN</td>\n",
       "      <td>NaN</td>\n",
       "      <td>X</td>\n",
       "      <td>NaN</td>\n",
       "      <td>...</td>\n",
       "      <td>NaN</td>\n",
       "      <td>0</td>\n",
       "      <td>NaN</td>\n",
       "      <td>0</td>\n",
       "      <td>1</td>\n",
       "      <td>0</td>\n",
       "      <td>NaN</td>\n",
       "      <td>NaN</td>\n",
       "      <td>NaN</td>\n",
       "      <td>NaN</td>\n",
       "    </tr>\n",
       "    <tr>\n",
       "      <th>3</th>\n",
       "      <td>URN:CornellLabOfOrnithology:EBIRD:OBS786503655</td>\n",
       "      <td>2019-07-19 10:29:35</td>\n",
       "      <td>26287</td>\n",
       "      <td>species</td>\n",
       "      <td>Carolina Wren</td>\n",
       "      <td>Thryothorus ludovicianus</td>\n",
       "      <td>NaN</td>\n",
       "      <td>NaN</td>\n",
       "      <td>X</td>\n",
       "      <td>NaN</td>\n",
       "      <td>...</td>\n",
       "      <td>NaN</td>\n",
       "      <td>0</td>\n",
       "      <td>NaN</td>\n",
       "      <td>0</td>\n",
       "      <td>1</td>\n",
       "      <td>0</td>\n",
       "      <td>NaN</td>\n",
       "      <td>NaN</td>\n",
       "      <td>NaN</td>\n",
       "      <td>NaN</td>\n",
       "    </tr>\n",
       "    <tr>\n",
       "      <th>4</th>\n",
       "      <td>URN:CornellLabOfOrnithology:EBIRD:OBS786503665</td>\n",
       "      <td>2019-07-19 10:29:36</td>\n",
       "      <td>32501</td>\n",
       "      <td>species</td>\n",
       "      <td>Red-winged Blackbird</td>\n",
       "      <td>Agelaius phoeniceus</td>\n",
       "      <td>NaN</td>\n",
       "      <td>NaN</td>\n",
       "      <td>X</td>\n",
       "      <td>NaN</td>\n",
       "      <td>...</td>\n",
       "      <td>NaN</td>\n",
       "      <td>0</td>\n",
       "      <td>NaN</td>\n",
       "      <td>0</td>\n",
       "      <td>1</td>\n",
       "      <td>0</td>\n",
       "      <td>NaN</td>\n",
       "      <td>NaN</td>\n",
       "      <td>NaN</td>\n",
       "      <td>NaN</td>\n",
       "    </tr>\n",
       "  </tbody>\n",
       "</table>\n",
       "<p>5 rows × 47 columns</p>\n",
       "</div>"
      ],
      "text/plain": [
       "                         GLOBAL UNIQUE IDENTIFIER     LAST EDITED DATE  \\\n",
       "0  URN:CornellLabOfOrnithology:EBIRD:OBS786503632  2019-07-19 10:29:34   \n",
       "1  URN:CornellLabOfOrnithology:EBIRD:OBS786499692  2019-07-19 10:15:03   \n",
       "2  URN:CornellLabOfOrnithology:EBIRD:OBS786503672  2019-07-19 10:29:37   \n",
       "3  URN:CornellLabOfOrnithology:EBIRD:OBS786503655  2019-07-19 10:29:35   \n",
       "4  URN:CornellLabOfOrnithology:EBIRD:OBS786503665  2019-07-19 10:29:36   \n",
       "\n",
       "   TAXONOMIC ORDER CATEGORY           COMMON NAME           SCIENTIFIC NAME  \\\n",
       "0            33194  species     Northern Cardinal     Cardinalis cardinalis   \n",
       "1             5892  species       Least Sandpiper        Calidris minutilla   \n",
       "2            23153  species          Barn Swallow           Hirundo rustica   \n",
       "3            26287  species         Carolina Wren  Thryothorus ludovicianus   \n",
       "4            32501  species  Red-winged Blackbird       Agelaius phoeniceus   \n",
       "\n",
       "  SUBSPECIES COMMON NAME SUBSPECIES SCIENTIFIC NAME OBSERVATION COUNT  \\\n",
       "0                    NaN                        NaN                 X   \n",
       "1                    NaN                        NaN                 X   \n",
       "2                    NaN                        NaN                 X   \n",
       "3                    NaN                        NaN                 X   \n",
       "4                    NaN                        NaN                 X   \n",
       "\n",
       "  BREEDING BIRD ATLAS CODE  ... NUMBER OBSERVERS ALL SPECIES REPORTED  \\\n",
       "0                      NaN  ...              NaN                    0   \n",
       "1                      NaN  ...              NaN                    0   \n",
       "2                      NaN  ...              NaN                    0   \n",
       "3                      NaN  ...              NaN                    0   \n",
       "4                      NaN  ...              NaN                    0   \n",
       "\n",
       "  GROUP IDENTIFIER HAS MEDIA APPROVED REVIEWED REASON TRIP COMMENTS  \\\n",
       "0              NaN         0        1        0    NaN           NaN   \n",
       "1              NaN         0        1        0    NaN           NaN   \n",
       "2              NaN         0        1        0    NaN           NaN   \n",
       "3              NaN         0        1        0    NaN           NaN   \n",
       "4              NaN         0        1        0    NaN           NaN   \n",
       "\n",
       "  SPECIES COMMENTS  Unnamed: 46  \n",
       "0              NaN          NaN  \n",
       "1              NaN          NaN  \n",
       "2              NaN          NaN  \n",
       "3              NaN          NaN  \n",
       "4              NaN          NaN  \n",
       "\n",
       "[5 rows x 47 columns]"
      ]
     },
     "execution_count": 4,
     "metadata": {},
     "output_type": "execute_result"
    }
   ],
   "source": [
    "df.head()"
   ]
  },
  {
   "cell_type": "code",
   "execution_count": 6,
   "metadata": {},
   "outputs": [
    {
     "data": {
      "text/plain": [
       "(1699064, 47)"
      ]
     },
     "execution_count": 6,
     "metadata": {},
     "output_type": "execute_result"
    }
   ],
   "source": [
    "df.shape"
   ]
  },
  {
   "cell_type": "code",
   "execution_count": 7,
   "metadata": {},
   "outputs": [
    {
     "name": "stdout",
     "output_type": "stream",
     "text": [
      "<class 'pandas.core.frame.DataFrame'>\n",
      "RangeIndex: 1699064 entries, 0 to 1699063\n",
      "Data columns (total 47 columns):\n",
      "GLOBAL UNIQUE IDENTIFIER        object\n",
      "LAST EDITED DATE                object\n",
      "TAXONOMIC ORDER                 int64\n",
      "CATEGORY                        object\n",
      "COMMON NAME                     object\n",
      "SCIENTIFIC NAME                 object\n",
      "SUBSPECIES COMMON NAME          object\n",
      "SUBSPECIES SCIENTIFIC NAME      object\n",
      "OBSERVATION COUNT               object\n",
      "BREEDING BIRD ATLAS CODE        object\n",
      "BREEDING BIRD ATLAS CATEGORY    object\n",
      "AGE/SEX                         object\n",
      "COUNTRY                         object\n",
      "COUNTRY CODE                    object\n",
      "STATE                           object\n",
      "STATE CODE                      object\n",
      "COUNTY                          object\n",
      "COUNTY CODE                     object\n",
      "IBA CODE                        object\n",
      "BCR CODE                        float64\n",
      "USFWS CODE                      float64\n",
      "ATLAS BLOCK                     object\n",
      "LOCALITY                        object\n",
      "LOCALITY ID                     object\n",
      "LOCALITY TYPE                   object\n",
      "LATITUDE                        float64\n",
      "LONGITUDE                       float64\n",
      "OBSERVATION DATE                object\n",
      "TIME OBSERVATIONS STARTED       object\n",
      "OBSERVER ID                     object\n",
      "SAMPLING EVENT IDENTIFIER       object\n",
      "PROTOCOL TYPE                   object\n",
      "PROTOCOL CODE                   object\n",
      "PROJECT CODE                    object\n",
      "DURATION MINUTES                float64\n",
      "EFFORT DISTANCE KM              float64\n",
      "EFFORT AREA HA                  float64\n",
      "NUMBER OBSERVERS                float64\n",
      "ALL SPECIES REPORTED            int64\n",
      "GROUP IDENTIFIER                object\n",
      "HAS MEDIA                       int64\n",
      "APPROVED                        int64\n",
      "REVIEWED                        int64\n",
      "REASON                          object\n",
      "TRIP COMMENTS                   object\n",
      "SPECIES COMMENTS                object\n",
      "Unnamed: 46                     float64\n",
      "dtypes: float64(9), int64(5), object(33)\n",
      "memory usage: 609.3+ MB\n"
     ]
    }
   ],
   "source": [
    "df.info()"
   ]
  },
  {
   "cell_type": "code",
   "execution_count": 8,
   "metadata": {},
   "outputs": [
    {
     "name": "stdout",
     "output_type": "stream",
     "text": [
      "GLOBAL UNIQUE IDENTIFIER              0\n",
      "LAST EDITED DATE                      0\n",
      "TAXONOMIC ORDER                       0\n",
      "CATEGORY                              0\n",
      "COMMON NAME                           0\n",
      "SCIENTIFIC NAME                       0\n",
      "SUBSPECIES COMMON NAME          1607383\n",
      "SUBSPECIES SCIENTIFIC NAME      1607383\n",
      "OBSERVATION COUNT                     0\n",
      "BREEDING BIRD ATLAS CODE        1674999\n",
      "BREEDING BIRD ATLAS CATEGORY    1674999\n",
      "AGE/SEX                         1646617\n",
      "COUNTRY                               0\n",
      "COUNTRY CODE                          0\n",
      "STATE                                 0\n",
      "STATE CODE                            0\n",
      "COUNTY                                0\n",
      "COUNTY CODE                           0\n",
      "IBA CODE                         444673\n",
      "BCR CODE                          96717\n",
      "USFWS CODE                      1699064\n",
      "ATLAS BLOCK                     1695513\n",
      "LOCALITY                              0\n",
      "LOCALITY ID                           0\n",
      "LOCALITY TYPE                         0\n",
      "LATITUDE                              0\n",
      "LONGITUDE                             0\n",
      "OBSERVATION DATE                      0\n",
      "TIME OBSERVATIONS STARTED         76232\n",
      "OBSERVER ID                           0\n",
      "SAMPLING EVENT IDENTIFIER             0\n",
      "PROTOCOL TYPE                         0\n",
      "PROTOCOL CODE                         0\n",
      "PROJECT CODE                          0\n",
      "DURATION MINUTES                 117453\n",
      "EFFORT DISTANCE KM               325799\n",
      "EFFORT AREA HA                  1655473\n",
      "NUMBER OBSERVERS                  41420\n",
      "ALL SPECIES REPORTED                  0\n",
      "GROUP IDENTIFIER                1483611\n",
      "HAS MEDIA                             0\n",
      "APPROVED                              0\n",
      "REVIEWED                              0\n",
      "REASON                          1698990\n",
      "TRIP COMMENTS                   1015914\n",
      "SPECIES COMMENTS                1464129\n",
      "Unnamed: 46                     1699064\n",
      "dtype: int64\n"
     ]
    }
   ],
   "source": [
    "# Any columns with over 1.6M missing values will be removed because it will be meaningless within the context of this large dataset.\n",
    "print(df.isna().sum())"
   ]
  },
  {
   "cell_type": "code",
   "execution_count": null,
   "metadata": {},
   "outputs": [],
   "source": []
  },
  {
   "cell_type": "code",
   "execution_count": 9,
   "metadata": {},
   "outputs": [],
   "source": [
    "#This function will allow us to plot different columns and subsets of columns as needed for EDA:\n",
    "\n",
    "def plot_distribution(dataset, cols=5, width=20, height=15, hspace=0.2, wspace=0.5):\n",
    "    \n",
    "    #set up the seaborn style. \n",
    "    plt.style.use('seaborn-whitegrid')\n",
    "    fig = plt.figure(figsize=(width,height))\n",
    "    \n",
    "    #math.ceil() : Python number method ceil() returns ceiling value of x - the smallest integer not less than x.\n",
    "    fig.subplots_adjust(left=None, bottom=None, right=None, top=None, wspace=wspace, hspace=hspace)\n",
    "    \n",
    "    #math.ceil() : Python number method ceil() returns ceiling value of x - the smallest integer not less than x.\n",
    "    rows = math.ceil(float(dataset.shape[1]) / cols)\n",
    "    \n",
    "    #Determine vizualization type based on the data types!\n",
    "    for i, column in enumerate(dataset.columns):\n",
    "        ax = fig.add_subplot(rows, cols, i + 1)\n",
    "        ax.set_title(column)\n",
    "        if dataset.dtypes[column] == np.object:\n",
    "            g = sns.countplot(y=column, data=dataset)\n",
    "            substrings = [s.get_text()[:18] for s in g.get_yticklabels()]\n",
    "            g.set(yticklabels=substrings)\n",
    "            plt.xticks(rotation=25)\n",
    "        else:\n",
    "            g = sns.distplot(dataset[column])\n",
    "            plt.xticks(rotation=25)\n",
    "    \n",
    "# plot_distribution(observation_count, cols=1, width=20, height=20, hspace=0.45, wspace=0.5)"
   ]
  },
  {
   "cell_type": "markdown",
   "metadata": {},
   "source": [
    "# Convert to Datetime:\n"
   ]
  },
  {
   "cell_type": "code",
   "execution_count": 10,
   "metadata": {},
   "outputs": [
    {
     "data": {
      "text/plain": [
       "847749    2016-10-25\n",
       "Name: OBSERVATION DATE, dtype: object"
      ]
     },
     "execution_count": 10,
     "metadata": {},
     "output_type": "execute_result"
    }
   ],
   "source": [
    "# Check the current formatting\n",
    "df['OBSERVATION DATE'].sample()"
   ]
  },
  {
   "cell_type": "code",
   "execution_count": 11,
   "metadata": {},
   "outputs": [],
   "source": [
    "# convert column to datetime\n",
    "df['OBSERVATION_DATE'] = pd.to_datetime(df['OBSERVATION DATE'])"
   ]
  },
  {
   "cell_type": "code",
   "execution_count": 12,
   "metadata": {},
   "outputs": [],
   "source": [
    "observation_date = df[['OBSERVATION DATE']]"
   ]
  },
  {
   "cell_type": "code",
   "execution_count": 13,
   "metadata": {},
   "outputs": [
    {
     "data": {
      "image/png": "[encoded data removed]",
      "text/plain": [
       "<Figure size 504x360 with 1 Axes>"
      ]
     },
     "metadata": {},
     "output_type": "display_data"
    }
   ],
   "source": [
    "plot_distribution(observation_date, cols=1, width=7, height=5, hspace=0.45, wspace=0.5)"
   ]
  },
  {
   "cell_type": "code",
   "execution_count": 14,
   "metadata": {},
   "outputs": [],
   "source": [
    "# create month and year columns\n",
    "df['MONTH'] = pd.DatetimeIndex(df['OBSERVATION_DATE']).month\n",
    "df['YEAR'] = pd.DatetimeIndex(df['OBSERVATION_DATE']).year"
   ]
  },
  {
   "cell_type": "markdown",
   "metadata": {},
   "source": [
    "# IMPUTATION\n",
    "\n",
    "After removing all values 1.6M + missing."
   ]
  },
  {
   "cell_type": "markdown",
   "metadata": {},
   "source": [
    "**OBSERVATION COUNT**\n",
    "\n",
    "This needs to be numeric column so we need to first covert the 'X' into a number."
   ]
  },
  {
   "cell_type": "code",
   "execution_count": 15,
   "metadata": {},
   "outputs": [
    {
     "data": {
      "text/plain": [
       "1509316    3\n",
       "Name: OBSERVATION COUNT, dtype: object"
      ]
     },
     "execution_count": 15,
     "metadata": {},
     "output_type": "execute_result"
    }
   ],
   "source": [
    "#Currently Observation Count is an object instead of numeric\n",
    "df['OBSERVATION COUNT'].sample()"
   ]
  },
  {
   "cell_type": "code",
   "execution_count": 16,
   "metadata": {},
   "outputs": [
    {
     "data": {
      "text/plain": [
       "1     526989\n",
       "2     259059\n",
       "X     206352\n",
       "3     126040\n",
       "4      96053\n",
       "5      70508\n",
       "6      57157\n",
       "8      38669\n",
       "10     38244\n",
       "7      26346\n",
       "Name: OBSERVATION COUNT, dtype: int64"
      ]
     },
     "execution_count": 16,
     "metadata": {},
     "output_type": "execute_result"
    }
   ],
   "source": [
    "#We can see that 'X' is the THIRD most popular choice\n",
    "df['OBSERVATION COUNT'].value_counts().head(10)"
   ]
  },
  {
   "cell_type": "code",
   "execution_count": 17,
   "metadata": {},
   "outputs": [],
   "source": [
    "#We will fill all the 'X' values with 1, assuming that each sighting included at LEAST 1 bird\n",
    "df['OBSERVATION_COUNT'] = df['OBSERVATION COUNT'].replace('X', '1')\n"
   ]
  },
  {
   "cell_type": "code",
   "execution_count": 18,
   "metadata": {},
   "outputs": [],
   "source": [
    "#convert OBSERVATION COUNT into a numerica value (currently an object, above)\n",
    "df['OBSERVATION_COUNT'] = pd.to_numeric(df['OBSERVATION_COUNT'])"
   ]
  },
  {
   "cell_type": "code",
   "execution_count": 19,
   "metadata": {},
   "outputs": [],
   "source": [
    "#Turn into dataframe for viz\n",
    "observation_count = df[['OBSERVATION_COUNT']]"
   ]
  },
  {
   "cell_type": "code",
   "execution_count": 20,
   "metadata": {},
   "outputs": [
    {
     "data": {
      "image/png": "[encoded data removed]",
      "text/plain": [
       "<Figure size 504x360 with 1 Axes>"
      ]
     },
     "metadata": {},
     "output_type": "display_data"
    }
   ],
   "source": [
    "plot_distribution(observation_count, cols=1, width=7, height=5, hspace=0.45, wspace=0.5)"
   ]
  },
  {
   "cell_type": "markdown",
   "metadata": {},
   "source": [
    "**NUMBER OBSERVERS**\n",
    "\n",
    "There are 41420 missing values. I want to check if most of the data for this feature began being captured before or after advent of smartphones before making a determination about how to handle. If it is just after 2005, then all analysis with this feature will be on recent data only."
   ]
  },
  {
   "cell_type": "code",
   "execution_count": 21,
   "metadata": {},
   "outputs": [
    {
     "data": {
      "text/plain": [
       "1.0       1097133\n",
       "2.0        239024\n",
       "3.0         66283\n",
       "15.0        35771\n",
       "4.0         29966\n",
       "10.0        27255\n",
       "12.0        22647\n",
       "20.0        19478\n",
       "5.0         17836\n",
       "8.0         13718\n",
       "6.0         11454\n",
       "7.0          9264\n",
       "16.0         8911\n",
       "14.0         8374\n",
       "9.0          8033\n",
       "11.0         6789\n",
       "18.0         5782\n",
       "13.0         5315\n",
       "25.0         4279\n",
       "30.0         4082\n",
       "17.0         3150\n",
       "40.0         1876\n",
       "22.0         1302\n",
       "19.0         1195\n",
       "21.0         1114\n",
       "35.0          928\n",
       "24.0          915\n",
       "50.0          860\n",
       "28.0          751\n",
       "38.0          565\n",
       "           ...   \n",
       "60.0          474\n",
       "26.0          403\n",
       "27.0          327\n",
       "44.0          272\n",
       "29.0          236\n",
       "32.0          235\n",
       "33.0          158\n",
       "45.0          121\n",
       "75.0          112\n",
       "100.0         104\n",
       "34.0           97\n",
       "201.0          71\n",
       "37.0           68\n",
       "36.0           47\n",
       "55.0           37\n",
       "126.0          35\n",
       "90.0           35\n",
       "41.0           34\n",
       "70.0           33\n",
       "63.0           32\n",
       "102.0          32\n",
       "76.0           27\n",
       "68.0           20\n",
       "42.0           11\n",
       "1432.0         10\n",
       "140.0           8\n",
       "111.0           5\n",
       "85.0            1\n",
       "150.0           1\n",
       "300.0           1\n",
       "Name: NUMBER OBSERVERS, Length: 61, dtype: int64"
      ]
     },
     "execution_count": 21,
     "metadata": {},
     "output_type": "execute_result"
    }
   ],
   "source": [
    "df['NUMBER OBSERVERS'].value_counts()"
   ]
  },
  {
   "cell_type": "code",
   "execution_count": 22,
   "metadata": {},
   "outputs": [
    {
     "data": {
      "text/plain": [
       "1.0"
      ]
     },
     "execution_count": 22,
     "metadata": {},
     "output_type": "execute_result"
    }
   ],
   "source": [
    "#The median is 1\n",
    "df['NUMBER OBSERVERS'].median()"
   ]
  },
  {
   "cell_type": "code",
   "execution_count": 23,
   "metadata": {},
   "outputs": [
    {
     "data": {
      "text/plain": [
       "41420"
      ]
     },
     "execution_count": 23,
     "metadata": {},
     "output_type": "execute_result"
    }
   ],
   "source": [
    "#Total missing values\n",
    "df['NUMBER OBSERVERS'].isna().sum()"
   ]
  },
  {
   "cell_type": "code",
   "execution_count": 24,
   "metadata": {},
   "outputs": [],
   "source": [
    "#perform inputation\n",
    "df['NUMBER OBSERVERS'] = df['NUMBER OBSERVERS'].fillna(1)"
   ]
  },
  {
   "cell_type": "code",
   "execution_count": 25,
   "metadata": {},
   "outputs": [
    {
     "data": {
      "text/plain": [
       "0"
      ]
     },
     "execution_count": 25,
     "metadata": {},
     "output_type": "execute_result"
    }
   ],
   "source": [
    "# Review missing data to make sure it was successful\n",
    "df['NUMBER OBSERVERS'].isna().sum()"
   ]
  },
  {
   "cell_type": "code",
   "execution_count": 26,
   "metadata": {},
   "outputs": [],
   "source": [
    "#turn into dataframe for viz\n",
    "num_observers = df[['NUMBER OBSERVERS']]"
   ]
  },
  {
   "cell_type": "code",
   "execution_count": 27,
   "metadata": {},
   "outputs": [
    {
     "data": {
      "text/html": [
       "<div>\n",
       "<style scoped>\n",
       "    .dataframe tbody tr th:only-of-type {\n",
       "        vertical-align: middle;\n",
       "    }\n",
       "\n",
       "    .dataframe tbody tr th {\n",
       "        vertical-align: top;\n",
       "    }\n",
       "\n",
       "    .dataframe thead th {\n",
       "        text-align: right;\n",
       "    }\n",
       "</style>\n",
       "<table border=\"1\" class=\"dataframe\">\n",
       "  <thead>\n",
       "    <tr style=\"text-align: right;\">\n",
       "      <th></th>\n",
       "      <th>NUMBER OBSERVERS</th>\n",
       "    </tr>\n",
       "  </thead>\n",
       "  <tbody>\n",
       "    <tr>\n",
       "      <th>count</th>\n",
       "      <td>1.699064e+06</td>\n",
       "    </tr>\n",
       "    <tr>\n",
       "      <th>mean</th>\n",
       "      <td>2.982697e+00</td>\n",
       "    </tr>\n",
       "    <tr>\n",
       "      <th>std</th>\n",
       "      <td>6.359018e+00</td>\n",
       "    </tr>\n",
       "    <tr>\n",
       "      <th>min</th>\n",
       "      <td>1.000000e+00</td>\n",
       "    </tr>\n",
       "    <tr>\n",
       "      <th>25%</th>\n",
       "      <td>1.000000e+00</td>\n",
       "    </tr>\n",
       "    <tr>\n",
       "      <th>50%</th>\n",
       "      <td>1.000000e+00</td>\n",
       "    </tr>\n",
       "    <tr>\n",
       "      <th>75%</th>\n",
       "      <td>2.000000e+00</td>\n",
       "    </tr>\n",
       "    <tr>\n",
       "      <th>max</th>\n",
       "      <td>1.432000e+03</td>\n",
       "    </tr>\n",
       "  </tbody>\n",
       "</table>\n",
       "</div>"
      ],
      "text/plain": [
       "       NUMBER OBSERVERS\n",
       "count      1.699064e+06\n",
       "mean       2.982697e+00\n",
       "std        6.359018e+00\n",
       "min        1.000000e+00\n",
       "25%        1.000000e+00\n",
       "50%        1.000000e+00\n",
       "75%        2.000000e+00\n",
       "max        1.432000e+03"
      ]
     },
     "execution_count": 27,
     "metadata": {},
     "output_type": "execute_result"
    }
   ],
   "source": [
    "num_observers.describe()"
   ]
  },
  {
   "cell_type": "code",
   "execution_count": 28,
   "metadata": {},
   "outputs": [
    {
     "data": {
      "image/png": "[encoded data removed]",
      "text/plain": [
       "<Figure size 504x360 with 1 Axes>"
      ]
     },
     "metadata": {},
     "output_type": "display_data"
    }
   ],
   "source": [
    "plot_distribution(num_observers, cols=1, width=7, height=5, hspace=0.45, wspace=0.5)"
   ]
  },
  {
   "cell_type": "markdown",
   "metadata": {},
   "source": [
    "**TEXT FEATURES**\n",
    "\n",
    "All NAN values will be replaced with 'NONE'"
   ]
  },
  {
   "cell_type": "code",
   "execution_count": 29,
   "metadata": {},
   "outputs": [
    {
     "name": "stdout",
     "output_type": "stream",
     "text": [
      "MISSING TRIP COMMENTS 1015914\n",
      "MISSING SPECIES COMMENTS 1464129\n"
     ]
    }
   ],
   "source": [
    "print('MISSING TRIP COMMENTS', df['TRIP COMMENTS'].isna().sum())\n",
    "print('MISSING SPECIES COMMENTS', df['SPECIES COMMENTS'].isna().sum())"
   ]
  },
  {
   "cell_type": "code",
   "execution_count": 30,
   "metadata": {},
   "outputs": [],
   "source": [
    "#Impute values\n",
    "\n",
    "df['TRIP COMMENTS'] = df['TRIP COMMENTS'].fillna('NONE')\n",
    "df['SPECIES COMMENTS'] = df['SPECIES COMMENTS'].fillna('NONE')"
   ]
  },
  {
   "cell_type": "code",
   "execution_count": 31,
   "metadata": {},
   "outputs": [
    {
     "name": "stdout",
     "output_type": "stream",
     "text": [
      "MISSING TRIP COMMENTS 0\n",
      "MISSING SPECIES COMMENTS 0\n"
     ]
    }
   ],
   "source": [
    "print('MISSING TRIP COMMENTS', df['TRIP COMMENTS'].isna().sum())\n",
    "print('MISSING SPECIES COMMENTS', df['SPECIES COMMENTS'].isna().sum())"
   ]
  },
  {
   "cell_type": "markdown",
   "metadata": {},
   "source": [
    "**DURATION MINUTES**\n",
    "\n",
    "There are 117453 missing values. I want to check if most of the data for this feature began being captured before or after advent of smartphones before making a determination about how to handle. If it is just after 2005, then all analysis with this feature will be on recent data only."
   ]
  },
  {
   "cell_type": "code",
   "execution_count": 32,
   "metadata": {},
   "outputs": [
    {
     "data": {
      "text/plain": [
       "105.0"
      ]
     },
     "execution_count": 32,
     "metadata": {},
     "output_type": "execute_result"
    }
   ],
   "source": [
    "#Median viewing lasts 105 minutes\n",
    "df['DURATION MINUTES'].median()"
   ]
  },
  {
   "cell_type": "code",
   "execution_count": 33,
   "metadata": {},
   "outputs": [],
   "source": [
    "#review count of each duration minutes column per year\n",
    "#There are more recordings for this feature more recently\n",
    "\n",
    "med_min_by_year = df.groupby(df['YEAR'])['DURATION MINUTES'].median()"
   ]
  },
  {
   "cell_type": "code",
   "execution_count": 34,
   "metadata": {},
   "outputs": [],
   "source": [
    "# df['DURATION MINUTES'] = df['DURATION MINUTES'].fillna(0)"
   ]
  },
  {
   "cell_type": "code",
   "execution_count": 35,
   "metadata": {},
   "outputs": [],
   "source": [
    "type(med_min_by_year)\n",
    "med_min_by_year_df = med_min_by_year.to_frame()"
   ]
  },
  {
   "cell_type": "code",
   "execution_count": 55,
   "metadata": {},
   "outputs": [
    {
     "data": {
      "image/png": "[encoded data removed]",
      "text/plain": [
       "<Figure size 432x288 with 1 Axes>"
      ]
     },
     "metadata": {},
     "output_type": "display_data"
    }
   ],
   "source": [
    "#While not the best way to show this data, it shows the significant gaps in data. \n",
    "plt.plot(med_min_by_year_df)\n",
    "\n",
    "plt.show()\n"
   ]
  },
  {
   "cell_type": "markdown",
   "metadata": {},
   "source": [
    "# **Exploring Individual Features:**"
   ]
  },
  {
   "cell_type": "markdown",
   "metadata": {},
   "source": [
    "**CATEGORY:** The category (e.g., species, hybrid, slash) assigned to this taxon in the eBird/Clements taxonomy.\n",
    "\n",
    "- Species: e.g., Tundra Swan\n",
    "\n",
    "- Hybrid: Hybrid between two species, e.g., Tundra x Trumpeter Swan (hybrid)\n",
    "\n",
    "- Intergrade: Hybrid between two subspecies or subspecies groups, e.g., Tundra Swan (Whistling x Bewick’s) \n",
    "\n",
    "- Spuh:  Genus or identification at broad level, e.g., swan sp.\n",
    "\n",
    "- Slash: Identification to Species-pair, e.g., Tundra/Trumpeter Swan\n",
    "\n",
    "- Domestic: Distinctly-plumaged domesticated varieties that may be free-flying (these do not count on personal lists) e.g., Mallard (Domestic type)\n",
    "\n",
    "- Form: Miscellaneous other taxa, including recently-described species yet to be accepted or distinctive forms that are not universally accepted, e.g., Red-tailed Hawk (abieticola), Upland Goose (Bar-breasted)"
   ]
  },
  {
   "cell_type": "code",
   "execution_count": 56,
   "metadata": {},
   "outputs": [
    {
     "name": "stdout",
     "output_type": "stream",
     "text": [
      "['species' 'form' 'domestic' 'slash' 'spuh' 'issf' 'hybrid']\n"
     ]
    }
   ],
   "source": [
    "#Review all individual categories\n",
    "\n",
    "print(df['CATEGORY'].unique())"
   ]
  },
  {
   "cell_type": "code",
   "execution_count": 57,
   "metadata": {},
   "outputs": [],
   "source": [
    "category_groups = df.groupby(df['CATEGORY']).count()"
   ]
  },
  {
   "cell_type": "code",
   "execution_count": 58,
   "metadata": {},
   "outputs": [
    {
     "data": {
      "text/html": [
       "<div>\n",
       "<style scoped>\n",
       "    .dataframe tbody tr th:only-of-type {\n",
       "        vertical-align: middle;\n",
       "    }\n",
       "\n",
       "    .dataframe tbody tr th {\n",
       "        vertical-align: top;\n",
       "    }\n",
       "\n",
       "    .dataframe thead th {\n",
       "        text-align: right;\n",
       "    }\n",
       "</style>\n",
       "<table border=\"1\" class=\"dataframe\">\n",
       "  <thead>\n",
       "    <tr style=\"text-align: right;\">\n",
       "      <th></th>\n",
       "      <th>GLOBAL UNIQUE IDENTIFIER</th>\n",
       "      <th>LAST EDITED DATE</th>\n",
       "      <th>TAXONOMIC ORDER</th>\n",
       "      <th>COMMON NAME</th>\n",
       "      <th>SCIENTIFIC NAME</th>\n",
       "      <th>SUBSPECIES COMMON NAME</th>\n",
       "      <th>SUBSPECIES SCIENTIFIC NAME</th>\n",
       "      <th>OBSERVATION COUNT</th>\n",
       "      <th>BREEDING BIRD ATLAS CODE</th>\n",
       "      <th>BREEDING BIRD ATLAS CATEGORY</th>\n",
       "      <th>...</th>\n",
       "      <th>APPROVED</th>\n",
       "      <th>REVIEWED</th>\n",
       "      <th>REASON</th>\n",
       "      <th>TRIP COMMENTS</th>\n",
       "      <th>SPECIES COMMENTS</th>\n",
       "      <th>Unnamed: 46</th>\n",
       "      <th>OBSERVATION_DATE</th>\n",
       "      <th>MONTH</th>\n",
       "      <th>YEAR</th>\n",
       "      <th>OBSERVATION_COUNT</th>\n",
       "    </tr>\n",
       "    <tr>\n",
       "      <th>CATEGORY</th>\n",
       "      <th></th>\n",
       "      <th></th>\n",
       "      <th></th>\n",
       "      <th></th>\n",
       "      <th></th>\n",
       "      <th></th>\n",
       "      <th></th>\n",
       "      <th></th>\n",
       "      <th></th>\n",
       "      <th></th>\n",
       "      <th></th>\n",
       "      <th></th>\n",
       "      <th></th>\n",
       "      <th></th>\n",
       "      <th></th>\n",
       "      <th></th>\n",
       "      <th></th>\n",
       "      <th></th>\n",
       "      <th></th>\n",
       "      <th></th>\n",
       "      <th></th>\n",
       "    </tr>\n",
       "  </thead>\n",
       "  <tbody>\n",
       "    <tr>\n",
       "      <th>domestic</th>\n",
       "      <td>59483</td>\n",
       "      <td>59483</td>\n",
       "      <td>59483</td>\n",
       "      <td>59483</td>\n",
       "      <td>59483</td>\n",
       "      <td>59053</td>\n",
       "      <td>59053</td>\n",
       "      <td>59483</td>\n",
       "      <td>460</td>\n",
       "      <td>460</td>\n",
       "      <td>...</td>\n",
       "      <td>59483</td>\n",
       "      <td>59483</td>\n",
       "      <td>0</td>\n",
       "      <td>59483</td>\n",
       "      <td>59483</td>\n",
       "      <td>0</td>\n",
       "      <td>59483</td>\n",
       "      <td>59483</td>\n",
       "      <td>59483</td>\n",
       "      <td>59483</td>\n",
       "    </tr>\n",
       "    <tr>\n",
       "      <th>form</th>\n",
       "      <td>2838</td>\n",
       "      <td>2838</td>\n",
       "      <td>2838</td>\n",
       "      <td>2838</td>\n",
       "      <td>2838</td>\n",
       "      <td>2838</td>\n",
       "      <td>2838</td>\n",
       "      <td>2838</td>\n",
       "      <td>4</td>\n",
       "      <td>4</td>\n",
       "      <td>...</td>\n",
       "      <td>2838</td>\n",
       "      <td>2838</td>\n",
       "      <td>0</td>\n",
       "      <td>2838</td>\n",
       "      <td>2838</td>\n",
       "      <td>0</td>\n",
       "      <td>2838</td>\n",
       "      <td>2838</td>\n",
       "      <td>2838</td>\n",
       "      <td>2838</td>\n",
       "    </tr>\n",
       "    <tr>\n",
       "      <th>hybrid</th>\n",
       "      <td>1276</td>\n",
       "      <td>1276</td>\n",
       "      <td>1276</td>\n",
       "      <td>1276</td>\n",
       "      <td>1276</td>\n",
       "      <td>0</td>\n",
       "      <td>0</td>\n",
       "      <td>1276</td>\n",
       "      <td>4</td>\n",
       "      <td>4</td>\n",
       "      <td>...</td>\n",
       "      <td>1276</td>\n",
       "      <td>1276</td>\n",
       "      <td>0</td>\n",
       "      <td>1276</td>\n",
       "      <td>1276</td>\n",
       "      <td>0</td>\n",
       "      <td>1276</td>\n",
       "      <td>1276</td>\n",
       "      <td>1276</td>\n",
       "      <td>1276</td>\n",
       "    </tr>\n",
       "    <tr>\n",
       "      <th>issf</th>\n",
       "      <td>29790</td>\n",
       "      <td>29790</td>\n",
       "      <td>29790</td>\n",
       "      <td>29790</td>\n",
       "      <td>29790</td>\n",
       "      <td>29790</td>\n",
       "      <td>29790</td>\n",
       "      <td>29790</td>\n",
       "      <td>475</td>\n",
       "      <td>475</td>\n",
       "      <td>...</td>\n",
       "      <td>29790</td>\n",
       "      <td>29790</td>\n",
       "      <td>0</td>\n",
       "      <td>29790</td>\n",
       "      <td>29790</td>\n",
       "      <td>0</td>\n",
       "      <td>29790</td>\n",
       "      <td>29790</td>\n",
       "      <td>29790</td>\n",
       "      <td>29790</td>\n",
       "    </tr>\n",
       "    <tr>\n",
       "      <th>slash</th>\n",
       "      <td>1005</td>\n",
       "      <td>1005</td>\n",
       "      <td>1005</td>\n",
       "      <td>1005</td>\n",
       "      <td>1005</td>\n",
       "      <td>0</td>\n",
       "      <td>0</td>\n",
       "      <td>1005</td>\n",
       "      <td>6</td>\n",
       "      <td>6</td>\n",
       "      <td>...</td>\n",
       "      <td>1005</td>\n",
       "      <td>1005</td>\n",
       "      <td>0</td>\n",
       "      <td>1005</td>\n",
       "      <td>1005</td>\n",
       "      <td>0</td>\n",
       "      <td>1005</td>\n",
       "      <td>1005</td>\n",
       "      <td>1005</td>\n",
       "      <td>1005</td>\n",
       "    </tr>\n",
       "    <tr>\n",
       "      <th>species</th>\n",
       "      <td>1587872</td>\n",
       "      <td>1587872</td>\n",
       "      <td>1587872</td>\n",
       "      <td>1587872</td>\n",
       "      <td>1587872</td>\n",
       "      <td>0</td>\n",
       "      <td>0</td>\n",
       "      <td>1587872</td>\n",
       "      <td>22537</td>\n",
       "      <td>22537</td>\n",
       "      <td>...</td>\n",
       "      <td>1587872</td>\n",
       "      <td>1587872</td>\n",
       "      <td>74</td>\n",
       "      <td>1587872</td>\n",
       "      <td>1587872</td>\n",
       "      <td>0</td>\n",
       "      <td>1587872</td>\n",
       "      <td>1587872</td>\n",
       "      <td>1587872</td>\n",
       "      <td>1587872</td>\n",
       "    </tr>\n",
       "    <tr>\n",
       "      <th>spuh</th>\n",
       "      <td>16800</td>\n",
       "      <td>16800</td>\n",
       "      <td>16800</td>\n",
       "      <td>16800</td>\n",
       "      <td>16800</td>\n",
       "      <td>0</td>\n",
       "      <td>0</td>\n",
       "      <td>16800</td>\n",
       "      <td>579</td>\n",
       "      <td>579</td>\n",
       "      <td>...</td>\n",
       "      <td>16800</td>\n",
       "      <td>16800</td>\n",
       "      <td>0</td>\n",
       "      <td>16800</td>\n",
       "      <td>16800</td>\n",
       "      <td>0</td>\n",
       "      <td>16800</td>\n",
       "      <td>16800</td>\n",
       "      <td>16800</td>\n",
       "      <td>16800</td>\n",
       "    </tr>\n",
       "  </tbody>\n",
       "</table>\n",
       "<p>7 rows × 50 columns</p>\n",
       "</div>"
      ],
      "text/plain": [
       "          GLOBAL UNIQUE IDENTIFIER  LAST EDITED DATE  TAXONOMIC ORDER  \\\n",
       "CATEGORY                                                                \n",
       "domestic                     59483             59483            59483   \n",
       "form                          2838              2838             2838   \n",
       "hybrid                        1276              1276             1276   \n",
       "issf                         29790             29790            29790   \n",
       "slash                         1005              1005             1005   \n",
       "species                    1587872           1587872          1587872   \n",
       "spuh                         16800             16800            16800   \n",
       "\n",
       "          COMMON NAME  SCIENTIFIC NAME  SUBSPECIES COMMON NAME  \\\n",
       "CATEGORY                                                         \n",
       "domestic        59483            59483                   59053   \n",
       "form             2838             2838                    2838   \n",
       "hybrid           1276             1276                       0   \n",
       "issf            29790            29790                   29790   \n",
       "slash            1005             1005                       0   \n",
       "species       1587872          1587872                       0   \n",
       "spuh            16800            16800                       0   \n",
       "\n",
       "          SUBSPECIES SCIENTIFIC NAME  OBSERVATION COUNT  \\\n",
       "CATEGORY                                                  \n",
       "domestic                       59053              59483   \n",
       "form                            2838               2838   \n",
       "hybrid                             0               1276   \n",
       "issf                           29790              29790   \n",
       "slash                              0               1005   \n",
       "species                            0            1587872   \n",
       "spuh                               0              16800   \n",
       "\n",
       "          BREEDING BIRD ATLAS CODE  BREEDING BIRD ATLAS CATEGORY  ...  \\\n",
       "CATEGORY                                                          ...   \n",
       "domestic                       460                           460  ...   \n",
       "form                             4                             4  ...   \n",
       "hybrid                           4                             4  ...   \n",
       "issf                           475                           475  ...   \n",
       "slash                            6                             6  ...   \n",
       "species                      22537                         22537  ...   \n",
       "spuh                           579                           579  ...   \n",
       "\n",
       "          APPROVED  REVIEWED  REASON  TRIP COMMENTS  SPECIES COMMENTS  \\\n",
       "CATEGORY                                                                \n",
       "domestic     59483     59483       0          59483             59483   \n",
       "form          2838      2838       0           2838              2838   \n",
       "hybrid        1276      1276       0           1276              1276   \n",
       "issf         29790     29790       0          29790             29790   \n",
       "slash         1005      1005       0           1005              1005   \n",
       "species    1587872   1587872      74        1587872           1587872   \n",
       "spuh         16800     16800       0          16800             16800   \n",
       "\n",
       "          Unnamed: 46  OBSERVATION_DATE    MONTH     YEAR  OBSERVATION_COUNT  \n",
       "CATEGORY                                                                      \n",
       "domestic            0             59483    59483    59483              59483  \n",
       "form                0              2838     2838     2838               2838  \n",
       "hybrid              0              1276     1276     1276               1276  \n",
       "issf                0             29790    29790    29790              29790  \n",
       "slash               0              1005     1005     1005               1005  \n",
       "species             0           1587872  1587872  1587872            1587872  \n",
       "spuh                0             16800    16800    16800              16800  \n",
       "\n",
       "[7 rows x 50 columns]"
      ]
     },
     "execution_count": 58,
     "metadata": {},
     "output_type": "execute_result"
    }
   ],
   "source": [
    "category_groups"
   ]
  },
  {
   "cell_type": "markdown",
   "metadata": {},
   "source": [
    "**COMMON NAME**: "
   ]
  },
  {
   "cell_type": "code",
   "execution_count": 59,
   "metadata": {},
   "outputs": [
    {
     "name": "stdout",
     "output_type": "stream",
     "text": [
      "There are 442 total species\n"
     ]
    }
   ],
   "source": [
    "#Review all species\n",
    "total_species = len(df['COMMON NAME'].unique())\n",
    "print(f'There are {total_species} total species')"
   ]
  },
  {
   "cell_type": "code",
   "execution_count": 60,
   "metadata": {},
   "outputs": [
    {
     "data": {
      "text/plain": [
       "1591547            Yellow-billed Cuckoo\n",
       "21153                       House Finch\n",
       "1675095                   Mourning Dove\n",
       "542473              American Black Duck\n",
       "486014                  Northern Parula\n",
       "1149426          Red-bellied Woodpecker\n",
       "545694                    Hermit Thrush\n",
       "74967                 Northern Cardinal\n",
       "1066784         White-breasted Nuthatch\n",
       "482601                    Mourning Dove\n",
       "520154                       House Wren\n",
       "1536733                     Great Egret\n",
       "1055075                 Dark-eyed Junco\n",
       "263593                    American Crow\n",
       "140588                         Ovenbird\n",
       "113403                 Chipping Sparrow\n",
       "884197                  Dark-eyed Junco\n",
       "623969              Common Yellowthroat\n",
       "1438729                 Tufted Titmouse\n",
       "1570118                  Common Grackle\n",
       "1176966    Black-throated Green Warbler\n",
       "1696937                    Song Sparrow\n",
       "568559                      Rock Pigeon\n",
       "237532                    House Sparrow\n",
       "622557                   Common Grackle\n",
       "341699                   Common Grackle\n",
       "1094359                     House Finch\n",
       "856391                Northern Cardinal\n",
       "169600             Brown-headed Cowbird\n",
       "381056                  Northern Parula\n",
       "Name: COMMON NAME, dtype: object"
      ]
     },
     "execution_count": 60,
     "metadata": {},
     "output_type": "execute_result"
    }
   ],
   "source": [
    "df['COMMON NAME'].sample(30)"
   ]
  },
  {
   "cell_type": "code",
   "execution_count": 61,
   "metadata": {},
   "outputs": [],
   "source": [
    "#Exploration for a single species\n",
    "wt_sparrow = df[df['COMMON NAME'] == 'White-throated Sparrow']"
   ]
  },
  {
   "cell_type": "code",
   "execution_count": 62,
   "metadata": {},
   "outputs": [
    {
     "data": {
      "image/png": "[encoded data removed]",
      "text/plain": [
       "<Figure size 432x288 with 1 Axes>"
      ]
     },
     "metadata": {},
     "output_type": "display_data"
    }
   ],
   "source": [
    "#Reveal general trend of sightings over time\n",
    "\n",
    "import seaborn as sns\n",
    "import matplotlib.dates as mdates\n",
    "\n",
    "sns.set(style=\"darkgrid\")\n",
    "\n",
    "ax = sns.countplot(x=\"YEAR\", data=wt_sparrow)\n",
    "ax.xaxis.set_major_locator(mdates.YearLocator())\n",
    "ax.xaxis.set_major_formatter(mdates.DateFormatter('%Y'))\n",
    "\n",
    "#There are WAY more overall sightings recently. Need to investigate more."
   ]
  },
  {
   "cell_type": "markdown",
   "metadata": {},
   "source": [
    "**LOCALITY**\n",
    "\n",
    "The reported location name for the observation. Observers can give locations their own names, or choose from existing locations\n",
    "\n",
    "FEATURE ENGINEERING: Convert into another boolean column Park/Street "
   ]
  },
  {
   "cell_type": "code",
   "execution_count": 63,
   "metadata": {},
   "outputs": [
    {
     "data": {
      "text/plain": [
       "Central Park                                        600195\n",
       "Central Park--The Ramble                            275243\n",
       "Central Park--North End                              69665\n",
       "Inwood Hill Park                                     59456\n",
       "Central Park--Reservoir                              45767\n",
       "Manhattan--414 E 52nd St.                            45171\n",
       "Governors Island (closed to public Nov-Apr 2020)     36326\n",
       "Central Park--Strawberry Field                       23544\n",
       "Bryant Park                                          23112\n",
       "Central Park--The Pond and Hallett Sanctuary         23033\n",
       "Name: LOCALITY, dtype: int64"
      ]
     },
     "execution_count": 63,
     "metadata": {},
     "output_type": "execute_result"
    }
   ],
   "source": [
    "df['LOCALITY'].value_counts().head(10)"
   ]
  },
  {
   "cell_type": "markdown",
   "metadata": {},
   "source": [
    "**LOCALITY TYPE**\n",
    "\n",
    "This code is meant to help define the type of location used, as participants in eBird can plot specific locations on a map (P), choose existing locations from a map (H), or choose to submit data for a town (T), postal code (PC), county (C), or state (S). Abbreviations: State (S), County (C), Postal/Zip Code (PC), Town (T), Hotspot (H), Personal (P)."
   ]
  },
  {
   "cell_type": "code",
   "execution_count": 64,
   "metadata": {},
   "outputs": [
    {
     "data": {
      "text/plain": [
       "array(['P', 'T', 'H', 'PC'], dtype=object)"
      ]
     },
     "execution_count": 64,
     "metadata": {},
     "output_type": "execute_result"
    }
   ],
   "source": [
    "df['LOCALITY TYPE'].unique()"
   ]
  },
  {
   "cell_type": "code",
   "execution_count": 65,
   "metadata": {},
   "outputs": [
    {
     "data": {
      "text/plain": [
       "H     1503578\n",
       "P      185644\n",
       "PC       8865\n",
       "T         977\n",
       "Name: LOCALITY TYPE, dtype: int64"
      ]
     },
     "execution_count": 65,
     "metadata": {},
     "output_type": "execute_result"
    }
   ],
   "source": [
    "df['LOCALITY TYPE'].value_counts()"
   ]
  },
  {
   "cell_type": "code",
   "execution_count": 66,
   "metadata": {},
   "outputs": [],
   "source": [
    "locality_type = df[['LOCALITY TYPE']]"
   ]
  },
  {
   "cell_type": "code",
   "execution_count": 67,
   "metadata": {},
   "outputs": [
    {
     "data": {
      "image/png": "[encoded data removed]",
      "text/plain": [
       "<Figure size 504x360 with 1 Axes>"
      ]
     },
     "metadata": {},
     "output_type": "display_data"
    }
   ],
   "source": [
    "plot_distribution(locality_type, cols=1, width=7, height=5, hspace=0.45, wspace=0.5)"
   ]
  },
  {
   "cell_type": "markdown",
   "metadata": {},
   "source": [
    "**HAS MEDIA**\n",
    "\n",
    "Boolean value, refers to whether a particular observation is supported by rich media stored at the Cornell Lab of Ornithology's Macaulay Library.\n",
    "\n",
    "FEATURE ENGINEERING: Might be interesting to note user trends over time."
   ]
  },
  {
   "cell_type": "code",
   "execution_count": 69,
   "metadata": {},
   "outputs": [
    {
     "data": {
      "text/plain": [
       "0    1670733\n",
       "1      28331\n",
       "Name: HAS MEDIA, dtype: int64"
      ]
     },
     "execution_count": 69,
     "metadata": {},
     "output_type": "execute_result"
    }
   ],
   "source": [
    "df['HAS MEDIA'].value_counts()"
   ]
  },
  {
   "cell_type": "markdown",
   "metadata": {},
   "source": [
    "# Final Dataframe for Analysis:\n"
   ]
  },
  {
   "cell_type": "markdown",
   "metadata": {},
   "source": [
    "The final dataframe will contain:\n",
    "\n",
    "Original Columns:\n",
    "- GLOBAL UNIQUE IDENTIFIER\n",
    "- CATEGORY\n",
    "- COMMON NAME\n",
    "- OBSERVATION COUNT\n",
    "- LATITUDE\n",
    "- LONGITUDE\n",
    "- OBSERVER ID\n",
    "- NUMBER OBSERVERS\n",
    "\n",
    "- TRIP COMMENTS\n",
    "- SPECIED COMMENTS\n",
    "- APPROVED\n",
    "\n",
    "Created Columns:\n",
    "- OBSERVATION_DATE\n",
    "- MONTH\n",
    "- YEAR"
   ]
  },
  {
   "cell_type": "code",
   "execution_count": 76,
   "metadata": {},
   "outputs": [],
   "source": [
    "data = df[['GLOBAL UNIQUE IDENTIFIER', 'CATEGORY', 'COMMON NAME', 'OBSERVATION_COUNT', 'LOCALITY', 'LOCALITY TYPE', 'LATITUDE', 'LONGITUDE','OBSERVATION_DATE','MONTH', 'YEAR', 'OBSERVER ID', 'DURATION MINUTES', 'NUMBER OBSERVERS', 'HAS MEDIA','TRIP COMMENTS', 'SPECIES COMMENTS','APPROVED']]"
   ]
  },
  {
   "cell_type": "code",
   "execution_count": 77,
   "metadata": {},
   "outputs": [
    {
     "data": {
      "text/html": [
       "<div>\n",
       "<style scoped>\n",
       "    .dataframe tbody tr th:only-of-type {\n",
       "        vertical-align: middle;\n",
       "    }\n",
       "\n",
       "    .dataframe tbody tr th {\n",
       "        vertical-align: top;\n",
       "    }\n",
       "\n",
       "    .dataframe thead th {\n",
       "        text-align: right;\n",
       "    }\n",
       "</style>\n",
       "<table border=\"1\" class=\"dataframe\">\n",
       "  <thead>\n",
       "    <tr style=\"text-align: right;\">\n",
       "      <th></th>\n",
       "      <th>GLOBAL UNIQUE IDENTIFIER</th>\n",
       "      <th>CATEGORY</th>\n",
       "      <th>COMMON NAME</th>\n",
       "      <th>OBSERVATION_COUNT</th>\n",
       "      <th>LOCALITY</th>\n",
       "      <th>LOCALITY TYPE</th>\n",
       "      <th>LATITUDE</th>\n",
       "      <th>LONGITUDE</th>\n",
       "      <th>OBSERVATION_DATE</th>\n",
       "      <th>MONTH</th>\n",
       "      <th>YEAR</th>\n",
       "      <th>OBSERVER ID</th>\n",
       "      <th>DURATION MINUTES</th>\n",
       "      <th>NUMBER OBSERVERS</th>\n",
       "      <th>HAS MEDIA</th>\n",
       "      <th>TRIP COMMENTS</th>\n",
       "      <th>SPECIES COMMENTS</th>\n",
       "      <th>APPROVED</th>\n",
       "    </tr>\n",
       "  </thead>\n",
       "  <tbody>\n",
       "    <tr>\n",
       "      <th>0</th>\n",
       "      <td>URN:CornellLabOfOrnithology:EBIRD:OBS786503632</td>\n",
       "      <td>species</td>\n",
       "      <td>Northern Cardinal</td>\n",
       "      <td>1</td>\n",
       "      <td>Arlington Alex Co.</td>\n",
       "      <td>P</td>\n",
       "      <td>40.741895</td>\n",
       "      <td>-73.989308</td>\n",
       "      <td>1880-10-23</td>\n",
       "      <td>10</td>\n",
       "      <td>1880</td>\n",
       "      <td>obsr1385587</td>\n",
       "      <td>NaN</td>\n",
       "      <td>1.0</td>\n",
       "      <td>0</td>\n",
       "      <td>NONE</td>\n",
       "      <td>NONE</td>\n",
       "      <td>1</td>\n",
       "    </tr>\n",
       "    <tr>\n",
       "      <th>1</th>\n",
       "      <td>URN:CornellLabOfOrnithology:EBIRD:OBS786499692</td>\n",
       "      <td>species</td>\n",
       "      <td>Least Sandpiper</td>\n",
       "      <td>1</td>\n",
       "      <td>Little River Arlington Alex Co.</td>\n",
       "      <td>P</td>\n",
       "      <td>40.741895</td>\n",
       "      <td>-73.989308</td>\n",
       "      <td>1881-05-14</td>\n",
       "      <td>5</td>\n",
       "      <td>1881</td>\n",
       "      <td>obsr1385587</td>\n",
       "      <td>NaN</td>\n",
       "      <td>1.0</td>\n",
       "      <td>0</td>\n",
       "      <td>NONE</td>\n",
       "      <td>NONE</td>\n",
       "      <td>1</td>\n",
       "    </tr>\n",
       "    <tr>\n",
       "      <th>2</th>\n",
       "      <td>URN:CornellLabOfOrnithology:EBIRD:OBS786503672</td>\n",
       "      <td>species</td>\n",
       "      <td>Barn Swallow</td>\n",
       "      <td>1</td>\n",
       "      <td>Arlington Alex Co.</td>\n",
       "      <td>P</td>\n",
       "      <td>40.741895</td>\n",
       "      <td>-73.989308</td>\n",
       "      <td>1884-05-16</td>\n",
       "      <td>5</td>\n",
       "      <td>1884</td>\n",
       "      <td>obsr1385587</td>\n",
       "      <td>NaN</td>\n",
       "      <td>1.0</td>\n",
       "      <td>0</td>\n",
       "      <td>NONE</td>\n",
       "      <td>NONE</td>\n",
       "      <td>1</td>\n",
       "    </tr>\n",
       "    <tr>\n",
       "      <th>3</th>\n",
       "      <td>URN:CornellLabOfOrnithology:EBIRD:OBS786503655</td>\n",
       "      <td>species</td>\n",
       "      <td>Carolina Wren</td>\n",
       "      <td>1</td>\n",
       "      <td>Arlington Alex Co.</td>\n",
       "      <td>P</td>\n",
       "      <td>40.741895</td>\n",
       "      <td>-73.989308</td>\n",
       "      <td>1884-05-13</td>\n",
       "      <td>5</td>\n",
       "      <td>1884</td>\n",
       "      <td>obsr1385587</td>\n",
       "      <td>NaN</td>\n",
       "      <td>1.0</td>\n",
       "      <td>0</td>\n",
       "      <td>NONE</td>\n",
       "      <td>NONE</td>\n",
       "      <td>1</td>\n",
       "    </tr>\n",
       "    <tr>\n",
       "      <th>4</th>\n",
       "      <td>URN:CornellLabOfOrnithology:EBIRD:OBS786503665</td>\n",
       "      <td>species</td>\n",
       "      <td>Red-winged Blackbird</td>\n",
       "      <td>1</td>\n",
       "      <td>Arlington Alex Co.</td>\n",
       "      <td>P</td>\n",
       "      <td>40.741895</td>\n",
       "      <td>-73.989308</td>\n",
       "      <td>1884-05-01</td>\n",
       "      <td>5</td>\n",
       "      <td>1884</td>\n",
       "      <td>obsr1385587</td>\n",
       "      <td>NaN</td>\n",
       "      <td>1.0</td>\n",
       "      <td>0</td>\n",
       "      <td>NONE</td>\n",
       "      <td>NONE</td>\n",
       "      <td>1</td>\n",
       "    </tr>\n",
       "  </tbody>\n",
       "</table>\n",
       "</div>"
      ],
      "text/plain": [
       "                         GLOBAL UNIQUE IDENTIFIER CATEGORY  \\\n",
       "0  URN:CornellLabOfOrnithology:EBIRD:OBS786503632  species   \n",
       "1  URN:CornellLabOfOrnithology:EBIRD:OBS786499692  species   \n",
       "2  URN:CornellLabOfOrnithology:EBIRD:OBS786503672  species   \n",
       "3  URN:CornellLabOfOrnithology:EBIRD:OBS786503655  species   \n",
       "4  URN:CornellLabOfOrnithology:EBIRD:OBS786503665  species   \n",
       "\n",
       "            COMMON NAME  OBSERVATION_COUNT                         LOCALITY  \\\n",
       "0     Northern Cardinal                  1               Arlington Alex Co.   \n",
       "1       Least Sandpiper                  1  Little River Arlington Alex Co.   \n",
       "2          Barn Swallow                  1               Arlington Alex Co.   \n",
       "3         Carolina Wren                  1               Arlington Alex Co.   \n",
       "4  Red-winged Blackbird                  1               Arlington Alex Co.   \n",
       "\n",
       "  LOCALITY TYPE   LATITUDE  LONGITUDE OBSERVATION_DATE  MONTH  YEAR  \\\n",
       "0             P  40.741895 -73.989308       1880-10-23     10  1880   \n",
       "1             P  40.741895 -73.989308       1881-05-14      5  1881   \n",
       "2             P  40.741895 -73.989308       1884-05-16      5  1884   \n",
       "3             P  40.741895 -73.989308       1884-05-13      5  1884   \n",
       "4             P  40.741895 -73.989308       1884-05-01      5  1884   \n",
       "\n",
       "   OBSERVER ID  DURATION MINUTES  NUMBER OBSERVERS  HAS MEDIA TRIP COMMENTS  \\\n",
       "0  obsr1385587               NaN               1.0          0          NONE   \n",
       "1  obsr1385587               NaN               1.0          0          NONE   \n",
       "2  obsr1385587               NaN               1.0          0          NONE   \n",
       "3  obsr1385587               NaN               1.0          0          NONE   \n",
       "4  obsr1385587               NaN               1.0          0          NONE   \n",
       "\n",
       "  SPECIES COMMENTS  APPROVED  \n",
       "0             NONE         1  \n",
       "1             NONE         1  \n",
       "2             NONE         1  \n",
       "3             NONE         1  \n",
       "4             NONE         1  "
      ]
     },
     "execution_count": 77,
     "metadata": {},
     "output_type": "execute_result"
    }
   ],
   "source": [
    "data.head()"
   ]
  },
  {
   "cell_type": "code",
   "execution_count": 78,
   "metadata": {},
   "outputs": [],
   "source": [
    "data.to_csv('nyc_birds_full.csv', index=False)"
   ]
  },
  {
   "cell_type": "code",
   "execution_count": null,
   "metadata": {},
   "outputs": [],
   "source": []
  }
 ],
 "metadata": {
  "kernelspec": {
   "display_name": "Python 3",
   "language": "python",
   "name": "python3"
  },
  "language_info": {
   "codemirror_mode": {
    "name": "ipython",
    "version": 3
   },
   "file_extension": ".py",
   "mimetype": "text/x-python",
   "name": "python",
   "nbconvert_exporter": "python",
   "pygments_lexer": "ipython3",
   "version": "3.7.3"
  }
 },
 "nbformat": 4,
 "nbformat_minor": 2
}
