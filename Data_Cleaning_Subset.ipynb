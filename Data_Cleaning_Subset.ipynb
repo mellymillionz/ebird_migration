{
 "cells": [
  {
   "cell_type": "code",
   "execution_count": 58,
   "metadata": {},
   "outputs": [],
   "source": [
    "import pandas as pd\n",
    "import numpy as np\n",
    "import matplotlib.pyplot as plt\n",
    "import seaborn as sns\n"
   ]
  },
  {
   "cell_type": "code",
   "execution_count": 59,
   "metadata": {},
   "outputs": [],
   "source": [
    "df = pd.read_csv('nyc_birds.csv')"
   ]
  },
  {
   "cell_type": "code",
   "execution_count": 60,
   "metadata": {},
   "outputs": [
    {
     "data": {
      "text/html": [
       "<div>\n",
       "<style scoped>\n",
       "    .dataframe tbody tr th:only-of-type {\n",
       "        vertical-align: middle;\n",
       "    }\n",
       "\n",
       "    .dataframe tbody tr th {\n",
       "        vertical-align: top;\n",
       "    }\n",
       "\n",
       "    .dataframe thead th {\n",
       "        text-align: right;\n",
       "    }\n",
       "</style>\n",
       "<table border=\"1\" class=\"dataframe\">\n",
       "  <thead>\n",
       "    <tr style=\"text-align: right;\">\n",
       "      <th></th>\n",
       "      <th>GLOBAL UNIQUE IDENTIFIER</th>\n",
       "      <th>CATEGORY</th>\n",
       "      <th>COMMON NAME</th>\n",
       "      <th>OBSERVATION_COUNT</th>\n",
       "      <th>LATITUDE</th>\n",
       "      <th>LONGITUDE</th>\n",
       "      <th>OBSERVATION_DATE</th>\n",
       "      <th>MONTH</th>\n",
       "      <th>YEAR</th>\n",
       "      <th>OBSERVER ID</th>\n",
       "      <th>DURATION MINUTES</th>\n",
       "      <th>NUMBER OBSERVERS</th>\n",
       "      <th>TRIP COMMENTS</th>\n",
       "      <th>SPECIES COMMENTS</th>\n",
       "      <th>APPROVED</th>\n",
       "    </tr>\n",
       "  </thead>\n",
       "  <tbody>\n",
       "    <tr>\n",
       "      <th>0</th>\n",
       "      <td>URN:CornellLabOfOrnithology:EBIRD:OBS786503632</td>\n",
       "      <td>species</td>\n",
       "      <td>Northern Cardinal</td>\n",
       "      <td>1</td>\n",
       "      <td>40.741895</td>\n",
       "      <td>-73.989308</td>\n",
       "      <td>1880-10-23</td>\n",
       "      <td>10</td>\n",
       "      <td>1880</td>\n",
       "      <td>obsr1385587</td>\n",
       "      <td>NaN</td>\n",
       "      <td>NaN</td>\n",
       "      <td>NaN</td>\n",
       "      <td>NaN</td>\n",
       "      <td>1</td>\n",
       "    </tr>\n",
       "    <tr>\n",
       "      <th>1</th>\n",
       "      <td>URN:CornellLabOfOrnithology:EBIRD:OBS786499692</td>\n",
       "      <td>species</td>\n",
       "      <td>Least Sandpiper</td>\n",
       "      <td>1</td>\n",
       "      <td>40.741895</td>\n",
       "      <td>-73.989308</td>\n",
       "      <td>1881-05-14</td>\n",
       "      <td>5</td>\n",
       "      <td>1881</td>\n",
       "      <td>obsr1385587</td>\n",
       "      <td>NaN</td>\n",
       "      <td>NaN</td>\n",
       "      <td>NaN</td>\n",
       "      <td>NaN</td>\n",
       "      <td>1</td>\n",
       "    </tr>\n",
       "    <tr>\n",
       "      <th>2</th>\n",
       "      <td>URN:CornellLabOfOrnithology:EBIRD:OBS786503672</td>\n",
       "      <td>species</td>\n",
       "      <td>Barn Swallow</td>\n",
       "      <td>1</td>\n",
       "      <td>40.741895</td>\n",
       "      <td>-73.989308</td>\n",
       "      <td>1884-05-16</td>\n",
       "      <td>5</td>\n",
       "      <td>1884</td>\n",
       "      <td>obsr1385587</td>\n",
       "      <td>NaN</td>\n",
       "      <td>NaN</td>\n",
       "      <td>NaN</td>\n",
       "      <td>NaN</td>\n",
       "      <td>1</td>\n",
       "    </tr>\n",
       "    <tr>\n",
       "      <th>3</th>\n",
       "      <td>URN:CornellLabOfOrnithology:EBIRD:OBS786503655</td>\n",
       "      <td>species</td>\n",
       "      <td>Carolina Wren</td>\n",
       "      <td>1</td>\n",
       "      <td>40.741895</td>\n",
       "      <td>-73.989308</td>\n",
       "      <td>1884-05-13</td>\n",
       "      <td>5</td>\n",
       "      <td>1884</td>\n",
       "      <td>obsr1385587</td>\n",
       "      <td>NaN</td>\n",
       "      <td>NaN</td>\n",
       "      <td>NaN</td>\n",
       "      <td>NaN</td>\n",
       "      <td>1</td>\n",
       "    </tr>\n",
       "    <tr>\n",
       "      <th>4</th>\n",
       "      <td>URN:CornellLabOfOrnithology:EBIRD:OBS786503665</td>\n",
       "      <td>species</td>\n",
       "      <td>Red-winged Blackbird</td>\n",
       "      <td>1</td>\n",
       "      <td>40.741895</td>\n",
       "      <td>-73.989308</td>\n",
       "      <td>1884-05-01</td>\n",
       "      <td>5</td>\n",
       "      <td>1884</td>\n",
       "      <td>obsr1385587</td>\n",
       "      <td>NaN</td>\n",
       "      <td>NaN</td>\n",
       "      <td>NaN</td>\n",
       "      <td>NaN</td>\n",
       "      <td>1</td>\n",
       "    </tr>\n",
       "  </tbody>\n",
       "</table>\n",
       "</div>"
      ],
      "text/plain": [
       "                         GLOBAL UNIQUE IDENTIFIER CATEGORY  \\\n",
       "0  URN:CornellLabOfOrnithology:EBIRD:OBS786503632  species   \n",
       "1  URN:CornellLabOfOrnithology:EBIRD:OBS786499692  species   \n",
       "2  URN:CornellLabOfOrnithology:EBIRD:OBS786503672  species   \n",
       "3  URN:CornellLabOfOrnithology:EBIRD:OBS786503655  species   \n",
       "4  URN:CornellLabOfOrnithology:EBIRD:OBS786503665  species   \n",
       "\n",
       "            COMMON NAME  OBSERVATION_COUNT   LATITUDE  LONGITUDE  \\\n",
       "0     Northern Cardinal                  1  40.741895 -73.989308   \n",
       "1       Least Sandpiper                  1  40.741895 -73.989308   \n",
       "2          Barn Swallow                  1  40.741895 -73.989308   \n",
       "3         Carolina Wren                  1  40.741895 -73.989308   \n",
       "4  Red-winged Blackbird                  1  40.741895 -73.989308   \n",
       "\n",
       "  OBSERVATION_DATE  MONTH  YEAR  OBSERVER ID  DURATION MINUTES  \\\n",
       "0       1880-10-23     10  1880  obsr1385587               NaN   \n",
       "1       1881-05-14      5  1881  obsr1385587               NaN   \n",
       "2       1884-05-16      5  1884  obsr1385587               NaN   \n",
       "3       1884-05-13      5  1884  obsr1385587               NaN   \n",
       "4       1884-05-01      5  1884  obsr1385587               NaN   \n",
       "\n",
       "   NUMBER OBSERVERS TRIP COMMENTS SPECIES COMMENTS  APPROVED  \n",
       "0               NaN           NaN              NaN         1  \n",
       "1               NaN           NaN              NaN         1  \n",
       "2               NaN           NaN              NaN         1  \n",
       "3               NaN           NaN              NaN         1  \n",
       "4               NaN           NaN              NaN         1  "
      ]
     },
     "execution_count": 60,
     "metadata": {},
     "output_type": "execute_result"
    }
   ],
   "source": [
    "df.head()"
   ]
  },
  {
   "cell_type": "code",
   "execution_count": 61,
   "metadata": {},
   "outputs": [
    {
     "name": "stdout",
     "output_type": "stream",
     "text": [
      "<class 'pandas.core.frame.DataFrame'>\n",
      "RangeIndex: 1699064 entries, 0 to 1699063\n",
      "Data columns (total 15 columns):\n",
      "GLOBAL UNIQUE IDENTIFIER    object\n",
      "CATEGORY                    object\n",
      "COMMON NAME                 object\n",
      "OBSERVATION_COUNT           int64\n",
      "LATITUDE                    float64\n",
      "LONGITUDE                   float64\n",
      "OBSERVATION_DATE            object\n",
      "MONTH                       int64\n",
      "YEAR                        int64\n",
      "OBSERVER ID                 object\n",
      "DURATION MINUTES            float64\n",
      "NUMBER OBSERVERS            float64\n",
      "TRIP COMMENTS               object\n",
      "SPECIES COMMENTS            object\n",
      "APPROVED                    int64\n",
      "dtypes: float64(4), int64(4), object(7)\n",
      "memory usage: 194.4+ MB\n"
     ]
    }
   ],
   "source": [
    "df.info()"
   ]
  },
  {
   "cell_type": "code",
   "execution_count": 62,
   "metadata": {},
   "outputs": [
    {
     "data": {
      "text/plain": [
       "GLOBAL UNIQUE IDENTIFIER          0\n",
       "CATEGORY                          0\n",
       "COMMON NAME                       0\n",
       "OBSERVATION_COUNT                 0\n",
       "LATITUDE                          0\n",
       "LONGITUDE                         0\n",
       "OBSERVATION_DATE                  0\n",
       "MONTH                             0\n",
       "YEAR                              0\n",
       "OBSERVER ID                       0\n",
       "DURATION MINUTES             117453\n",
       "NUMBER OBSERVERS              41420\n",
       "TRIP COMMENTS               1015914\n",
       "SPECIES COMMENTS            1464129\n",
       "APPROVED                          0\n",
       "dtype: int64"
      ]
     },
     "execution_count": 62,
     "metadata": {},
     "output_type": "execute_result"
    }
   ],
   "source": [
    "df.isna().sum()"
   ]
  },
  {
   "cell_type": "markdown",
   "metadata": {},
   "source": [
    "# Further Data Cleaning: Dealing with Missing Data"
   ]
  },
  {
   "cell_type": "markdown",
   "metadata": {},
   "source": [
    "**Number Observers:** We can see that there are 41420 missing values for this feature. Since the median is 1 obeserver, it is safe to assume that any observation must have had at least 1 observer present. We will default to 1 for missing values."
   ]
  },
  {
   "cell_type": "code",
   "execution_count": 64,
   "metadata": {},
   "outputs": [
    {
     "data": {
      "text/plain": [
       "1.0"
      ]
     },
     "execution_count": 64,
     "metadata": {},
     "output_type": "execute_result"
    }
   ],
   "source": [
    "#The median is 1\n",
    "df['NUMBER OBSERVERS'].median()"
   ]
  },
  {
   "cell_type": "code",
   "execution_count": 66,
   "metadata": {},
   "outputs": [
    {
     "data": {
      "text/plain": [
       "41420"
      ]
     },
     "execution_count": 66,
     "metadata": {},
     "output_type": "execute_result"
    }
   ],
   "source": [
    "df['NUMBER OBSERVERS'].isna().sum()"
   ]
  },
  {
   "cell_type": "code",
   "execution_count": 67,
   "metadata": {},
   "outputs": [
    {
     "data": {
      "text/plain": [
       "NUMBER OBSERVERS  COMMON NAME             \n",
       "1.0               House Sparrow               54784\n",
       "                  American Robin              43459\n",
       "                  European Starling           43324\n",
       "                  Rock Pigeon                 41264\n",
       "                  Blue Jay                    39609\n",
       "                  White-throated Sparrow      35820\n",
       "                  Northern Cardinal           34172\n",
       "                  Mourning Dove               32007\n",
       "                  Mallard                     31488\n",
       "                  Common Grackle              25715\n",
       "                  Canada Goose                24862\n",
       "                  Gray Catbird                20692\n",
       "                  Red-bellied Woodpecker      20631\n",
       "                  Song Sparrow                17601\n",
       "                  Downy Woodpecker            17586\n",
       "                  Ring-billed Gull            17051\n",
       "                  Herring Gull                16548\n",
       "                  Red-tailed Hawk             16308\n",
       "                  Double-crested Cormorant    15317\n",
       "                  Northern Flicker            15316\n",
       "                  Tufted Titmouse             13476\n",
       "                  Great Black-backed Gull     12472\n",
       "                  Red-winged Blackbird        12426\n",
       "                  House Finch                 12416\n",
       "                  Common Yellowthroat         12309\n",
       "                  Dark-eyed Junco             11811\n",
       "                  Hermit Thrush               11609\n",
       "                  American Goldfinch          11233\n",
       "                  White-breasted Nuthatch     11204\n",
       "                  American Redstart           10695\n",
       "                                              ...  \n",
       "201.0             Hermit Thrush                   2\n",
       "                  House Finch                     2\n",
       "                  House Sparrow                   2\n",
       "                  Indigo Bunting                  2\n",
       "                  Mallard                         2\n",
       "                  Mourning Dove                   2\n",
       "                  Northern Cardinal               2\n",
       "                  Northern Flicker                2\n",
       "                  Northern Parula                 2\n",
       "                  Red-bellied Woodpecker          2\n",
       "                  Red-tailed Hawk                 2\n",
       "                  Red-winged Blackbird            2\n",
       "                  Rock Pigeon                     2\n",
       "                  Ruby-crowned Kinglet            2\n",
       "                  Tufted Titmouse                 2\n",
       "                  White-throated Sparrow          2\n",
       "                  Yellow-bellied Sapsucker        2\n",
       "                  Yellow-rumped Warbler           2\n",
       "                  Common Yellowthroat             1\n",
       "300.0             Brant                           1\n",
       "1432.0            American Robin                  1\n",
       "                  Blue Jay                        1\n",
       "                  Common Grackle                  1\n",
       "                  European Starling               1\n",
       "                  House Finch                     1\n",
       "                  House Sparrow                   1\n",
       "                  Northern Cardinal               1\n",
       "                  Red-bellied Woodpecker          1\n",
       "                  Rock Pigeon                     1\n",
       "                  White-throated Sparrow          1\n",
       "Name: COMMON NAME, Length: 7537, dtype: int64"
      ]
     },
     "execution_count": 67,
     "metadata": {},
     "output_type": "execute_result"
    }
   ],
   "source": [
    "df.groupby(['NUMBER OBSERVERS'])['COMMON NAME'].value_counts()"
   ]
  },
  {
   "cell_type": "code",
   "execution_count": 68,
   "metadata": {},
   "outputs": [],
   "source": [
    "df['NUMBER OBSERVERS'] = df['NUMBER OBSERVERS'].fillna(1)"
   ]
  },
  {
   "cell_type": "code",
   "execution_count": 69,
   "metadata": {},
   "outputs": [
    {
     "data": {
      "text/plain": [
       "GLOBAL UNIQUE IDENTIFIER          0\n",
       "CATEGORY                          0\n",
       "COMMON NAME                       0\n",
       "OBSERVATION_COUNT                 0\n",
       "LATITUDE                          0\n",
       "LONGITUDE                         0\n",
       "OBSERVATION_DATE                  0\n",
       "MONTH                             0\n",
       "YEAR                              0\n",
       "OBSERVER ID                       0\n",
       "DURATION MINUTES             117453\n",
       "NUMBER OBSERVERS                  0\n",
       "TRIP COMMENTS               1015914\n",
       "SPECIES COMMENTS            1464129\n",
       "APPROVED                          0\n",
       "dtype: int64"
      ]
     },
     "execution_count": 69,
     "metadata": {},
     "output_type": "execute_result"
    }
   ],
   "source": [
    "#\n",
    "df.isna().sum()"
   ]
  },
  {
   "cell_type": "markdown",
   "metadata": {},
   "source": [
    "**Duration Minutes**: There are 117453 missing values. I want to check if most of the data for this feature began being captured before or after advent of smartphones before making a determination about how to handle. If it is just after 2005, then all analysis with this feature will be on recent data only."
   ]
  },
  {
   "cell_type": "code",
   "execution_count": 70,
   "metadata": {},
   "outputs": [
    {
     "data": {
      "text/plain": [
       "105.0"
      ]
     },
     "execution_count": 70,
     "metadata": {},
     "output_type": "execute_result"
    }
   ],
   "source": [
    "#Median viewing lasts 105 minutes\n",
    "df['DURATION MINUTES'].median()"
   ]
  },
  {
   "cell_type": "code",
   "execution_count": 71,
   "metadata": {},
   "outputs": [
    {
     "data": {
      "text/plain": [
       "YEAR\n",
       "1880         0\n",
       "1881         0\n",
       "1884         0\n",
       "1885         0\n",
       "1886         0\n",
       "1887         0\n",
       "1888         0\n",
       "1903         0\n",
       "1911         0\n",
       "1912         2\n",
       "1914         0\n",
       "1921         0\n",
       "1922         1\n",
       "1923         4\n",
       "1924         0\n",
       "1925       241\n",
       "1927         0\n",
       "1928         0\n",
       "1930         0\n",
       "1931         0\n",
       "1935         0\n",
       "1938         0\n",
       "1942         0\n",
       "1943         0\n",
       "1947         0\n",
       "1948         0\n",
       "1949         0\n",
       "1950         0\n",
       "1952         0\n",
       "1953         0\n",
       "         ...  \n",
       "1991       622\n",
       "1992       791\n",
       "1993       939\n",
       "1994       372\n",
       "1995       561\n",
       "1996       887\n",
       "1997       878\n",
       "1998       279\n",
       "1999       373\n",
       "2000       723\n",
       "2001       473\n",
       "2002       615\n",
       "2003      2099\n",
       "2004      2880\n",
       "2005      5902\n",
       "2006      5709\n",
       "2007      7805\n",
       "2008     11956\n",
       "2009     14746\n",
       "2010     31633\n",
       "2011     53189\n",
       "2012     75551\n",
       "2013    111017\n",
       "2014    136361\n",
       "2015    146576\n",
       "2016    166655\n",
       "2017    203819\n",
       "2018    251632\n",
       "2019    297951\n",
       "2020     45685\n",
       "Name: DURATION MINUTES, Length: 93, dtype: int64"
      ]
     },
     "execution_count": 71,
     "metadata": {},
     "output_type": "execute_result"
    }
   ],
   "source": [
    "#review count of each duration minutes column per year\n",
    "#There are more recordings for this feature\n",
    "df.groupby(df['YEAR'])['DURATION MINUTES'].count()"
   ]
  },
  {
   "cell_type": "code",
   "execution_count": 41,
   "metadata": {},
   "outputs": [
    {
     "data": {
      "image/png": "[encoded data removed]",
      "text/plain": [
       "<Figure size 2160x576 with 1 Axes>"
      ]
     },
     "metadata": {
      "needs_background": "light"
     },
     "output_type": "display_data"
    }
   ],
   "source": [
    "import seaborn as sns\n",
    "\n",
    "fig_dims = (30, 8)\n",
    "fig, ax = plt.subplots(figsize=fig_dims)\n",
    "\n",
    "g = sns.boxplot(x=df['YEAR'], y=df['DURATION MINUTES'], ax=ax)\n",
    "g.set_xticklabels(g.get_xticklabels(),rotation=30)\n",
    "plt.show()"
   ]
  },
  {
   "cell_type": "code",
   "execution_count": 74,
   "metadata": {},
   "outputs": [
    {
     "data": {
      "image/png": "[encoded data removed]",
      "text/plain": [
       "<Figure size 2160x576 with 1 Axes>"
      ]
     },
     "metadata": {
      "needs_background": "light"
     },
     "output_type": "display_data"
    }
   ],
   "source": [
    "import seaborn as sns\n",
    "\n",
    "fig_dims = (30, 8)\n",
    "fig, ax = plt.subplots(figsize=fig_dims)\n",
    "\n",
    "g = sns.barplot(x=df['YEAR'], y=df['DURATION MINUTES'], ax=ax)\n",
    "g.set_xticklabels(g.get_xticklabels(),rotation=30)\n",
    "plt.show()"
   ]
  },
  {
   "cell_type": "code",
   "execution_count": 79,
   "metadata": {},
   "outputs": [
    {
     "name": "stdout",
     "output_type": "stream",
     "text": [
      "YEAR\n",
      "False    1581596\n",
      "True          15\n",
      "Name: DURATION MINUTES, dtype: int64\n",
      "YEAR\n",
      "False    [nan, 15.0, 45.0, 5.0, 40.0, 30.0, 70.0, 60.0,...\n",
      "True                                           [nan, 60.0]\n",
      "Name: DURATION MINUTES, dtype: object\n"
     ]
    }
   ],
   "source": [
    "#Reviewing the issue in 1968. \n",
    "#Looks like there were only 15 recordings\n",
    "\n",
    "print(df.groupby(df['YEAR'] == 1968)['DURATION MINUTES'].count())\n",
    "print(df.groupby(df['YEAR']==1986)['DURATION MINUTES'].unique())"
   ]
  },
  {
   "cell_type": "code",
   "execution_count": 109,
   "metadata": {},
   "outputs": [],
   "source": [
    "df['DURATION MINUTES'] = df['DURATION MINUTES'].fillna(df['DURATION MINUTES'].median())"
   ]
  },
  {
   "cell_type": "markdown",
   "metadata": {},
   "source": [
    "# Visualizations Continued:"
   ]
  },
  {
   "cell_type": "code",
   "execution_count": 110,
   "metadata": {},
   "outputs": [
    {
     "data": {
      "text/plain": [
       "MONTH\n",
       "1     102027\n",
       "2      74718\n",
       "3     111904\n",
       "4     270552\n",
       "5     474736\n",
       "6      51364\n",
       "7      32707\n",
       "8      59546\n",
       "9     163603\n",
       "10    188123\n",
       "11     95095\n",
       "12     74689\n",
       "Name: OBSERVATION_COUNT, dtype: int64"
      ]
     },
     "execution_count": 110,
     "metadata": {},
     "output_type": "execute_result"
    }
   ],
   "source": [
    "df.groupby(['MONTH']).count()['OBSERVATION_COUNT']"
   ]
  },
  {
   "cell_type": "code",
   "execution_count": 111,
   "metadata": {},
   "outputs": [
    {
     "data": {
      "text/plain": [
       "<matplotlib.axes._subplots.AxesSubplot at 0x1a1d2219e8>"
      ]
     },
     "execution_count": 111,
     "metadata": {},
     "output_type": "execute_result"
    },
    {
     "data": {
      "image/png": "[encoded data removed]",
      "text/plain": [
       "<Figure size 1080x504 with 1 Axes>"
      ]
     },
     "metadata": {
      "needs_background": "light"
     },
     "output_type": "display_data"
    }
   ],
   "source": [
    "#Review the monthly total observation counts\n",
    "fig, ax = plt.subplots(figsize=(15,7))\n",
    "\n",
    "df.groupby(['MONTH']).count()['OBSERVATION_COUNT'].plot(ax=ax)"
   ]
  },
  {
   "cell_type": "markdown",
   "metadata": {},
   "source": [
    "**Plotting two continuous variables**\n"
   ]
  },
  {
   "cell_type": "code",
   "execution_count": 112,
   "metadata": {},
   "outputs": [
    {
     "data": {
      "text/html": [
       "<div>\n",
       "<style scoped>\n",
       "    .dataframe tbody tr th:only-of-type {\n",
       "        vertical-align: middle;\n",
       "    }\n",
       "\n",
       "    .dataframe tbody tr th {\n",
       "        vertical-align: top;\n",
       "    }\n",
       "\n",
       "    .dataframe thead th {\n",
       "        text-align: right;\n",
       "    }\n",
       "</style>\n",
       "<table border=\"1\" class=\"dataframe\">\n",
       "  <thead>\n",
       "    <tr style=\"text-align: right;\">\n",
       "      <th></th>\n",
       "      <th>GLOBAL UNIQUE IDENTIFIER</th>\n",
       "      <th>CATEGORY</th>\n",
       "      <th>COMMON NAME</th>\n",
       "      <th>OBSERVATION_COUNT</th>\n",
       "      <th>LATITUDE</th>\n",
       "      <th>LONGITUDE</th>\n",
       "      <th>OBSERVATION_DATE</th>\n",
       "      <th>MONTH</th>\n",
       "      <th>YEAR</th>\n",
       "      <th>OBSERVER ID</th>\n",
       "      <th>DURATION MINUTES</th>\n",
       "      <th>NUMBER OBSERVERS</th>\n",
       "      <th>TRIP COMMENTS</th>\n",
       "      <th>SPECIES COMMENTS</th>\n",
       "      <th>APPROVED</th>\n",
       "    </tr>\n",
       "  </thead>\n",
       "  <tbody>\n",
       "    <tr>\n",
       "      <th>0</th>\n",
       "      <td>URN:CornellLabOfOrnithology:EBIRD:OBS786503632</td>\n",
       "      <td>species</td>\n",
       "      <td>Northern Cardinal</td>\n",
       "      <td>1</td>\n",
       "      <td>40.741895</td>\n",
       "      <td>-73.989308</td>\n",
       "      <td>1880-10-23</td>\n",
       "      <td>10</td>\n",
       "      <td>1880</td>\n",
       "      <td>obsr1385587</td>\n",
       "      <td>105.0</td>\n",
       "      <td>1.0</td>\n",
       "      <td>NaN</td>\n",
       "      <td>NaN</td>\n",
       "      <td>1</td>\n",
       "    </tr>\n",
       "    <tr>\n",
       "      <th>1</th>\n",
       "      <td>URN:CornellLabOfOrnithology:EBIRD:OBS786499692</td>\n",
       "      <td>species</td>\n",
       "      <td>Least Sandpiper</td>\n",
       "      <td>1</td>\n",
       "      <td>40.741895</td>\n",
       "      <td>-73.989308</td>\n",
       "      <td>1881-05-14</td>\n",
       "      <td>5</td>\n",
       "      <td>1881</td>\n",
       "      <td>obsr1385587</td>\n",
       "      <td>105.0</td>\n",
       "      <td>1.0</td>\n",
       "      <td>NaN</td>\n",
       "      <td>NaN</td>\n",
       "      <td>1</td>\n",
       "    </tr>\n",
       "    <tr>\n",
       "      <th>2</th>\n",
       "      <td>URN:CornellLabOfOrnithology:EBIRD:OBS786503672</td>\n",
       "      <td>species</td>\n",
       "      <td>Barn Swallow</td>\n",
       "      <td>1</td>\n",
       "      <td>40.741895</td>\n",
       "      <td>-73.989308</td>\n",
       "      <td>1884-05-16</td>\n",
       "      <td>5</td>\n",
       "      <td>1884</td>\n",
       "      <td>obsr1385587</td>\n",
       "      <td>105.0</td>\n",
       "      <td>1.0</td>\n",
       "      <td>NaN</td>\n",
       "      <td>NaN</td>\n",
       "      <td>1</td>\n",
       "    </tr>\n",
       "    <tr>\n",
       "      <th>3</th>\n",
       "      <td>URN:CornellLabOfOrnithology:EBIRD:OBS786503655</td>\n",
       "      <td>species</td>\n",
       "      <td>Carolina Wren</td>\n",
       "      <td>1</td>\n",
       "      <td>40.741895</td>\n",
       "      <td>-73.989308</td>\n",
       "      <td>1884-05-13</td>\n",
       "      <td>5</td>\n",
       "      <td>1884</td>\n",
       "      <td>obsr1385587</td>\n",
       "      <td>105.0</td>\n",
       "      <td>1.0</td>\n",
       "      <td>NaN</td>\n",
       "      <td>NaN</td>\n",
       "      <td>1</td>\n",
       "    </tr>\n",
       "    <tr>\n",
       "      <th>4</th>\n",
       "      <td>URN:CornellLabOfOrnithology:EBIRD:OBS786503665</td>\n",
       "      <td>species</td>\n",
       "      <td>Red-winged Blackbird</td>\n",
       "      <td>1</td>\n",
       "      <td>40.741895</td>\n",
       "      <td>-73.989308</td>\n",
       "      <td>1884-05-01</td>\n",
       "      <td>5</td>\n",
       "      <td>1884</td>\n",
       "      <td>obsr1385587</td>\n",
       "      <td>105.0</td>\n",
       "      <td>1.0</td>\n",
       "      <td>NaN</td>\n",
       "      <td>NaN</td>\n",
       "      <td>1</td>\n",
       "    </tr>\n",
       "  </tbody>\n",
       "</table>\n",
       "</div>"
      ],
      "text/plain": [
       "                         GLOBAL UNIQUE IDENTIFIER CATEGORY  \\\n",
       "0  URN:CornellLabOfOrnithology:EBIRD:OBS786503632  species   \n",
       "1  URN:CornellLabOfOrnithology:EBIRD:OBS786499692  species   \n",
       "2  URN:CornellLabOfOrnithology:EBIRD:OBS786503672  species   \n",
       "3  URN:CornellLabOfOrnithology:EBIRD:OBS786503655  species   \n",
       "4  URN:CornellLabOfOrnithology:EBIRD:OBS786503665  species   \n",
       "\n",
       "            COMMON NAME  OBSERVATION_COUNT   LATITUDE  LONGITUDE  \\\n",
       "0     Northern Cardinal                  1  40.741895 -73.989308   \n",
       "1       Least Sandpiper                  1  40.741895 -73.989308   \n",
       "2          Barn Swallow                  1  40.741895 -73.989308   \n",
       "3         Carolina Wren                  1  40.741895 -73.989308   \n",
       "4  Red-winged Blackbird                  1  40.741895 -73.989308   \n",
       "\n",
       "  OBSERVATION_DATE  MONTH  YEAR  OBSERVER ID  DURATION MINUTES  \\\n",
       "0       1880-10-23     10  1880  obsr1385587             105.0   \n",
       "1       1881-05-14      5  1881  obsr1385587             105.0   \n",
       "2       1884-05-16      5  1884  obsr1385587             105.0   \n",
       "3       1884-05-13      5  1884  obsr1385587             105.0   \n",
       "4       1884-05-01      5  1884  obsr1385587             105.0   \n",
       "\n",
       "   NUMBER OBSERVERS TRIP COMMENTS SPECIES COMMENTS  APPROVED  \n",
       "0               1.0           NaN              NaN         1  \n",
       "1               1.0           NaN              NaN         1  \n",
       "2               1.0           NaN              NaN         1  \n",
       "3               1.0           NaN              NaN         1  \n",
       "4               1.0           NaN              NaN         1  "
      ]
     },
     "execution_count": 112,
     "metadata": {},
     "output_type": "execute_result"
    }
   ],
   "source": [
    "df.head()"
   ]
  },
  {
   "cell_type": "code",
   "execution_count": 115,
   "metadata": {},
   "outputs": [
    {
     "data": {
      "image/png": "[encoded data removed]",
      "text/plain": [
       "<Figure size 432x288 with 1 Axes>"
      ]
     },
     "metadata": {
      "needs_background": "light"
     },
     "output_type": "display_data"
    }
   ],
   "source": [
    "# Basic scatter plot, log scale\n",
    "plt.scatter(df['NUMBER OBSERVERS'], df['DURATION MINUTES'])\n",
    "\n",
    "# Strings\n",
    "xlab = 'Number Observers'\n",
    "ylab = 'Duration Minutes of Observation'\n",
    "title = 'Duration of Observations by Group Sizes'\n",
    "\n",
    "# Add axis labels\n",
    "plt.xlabel(xlab)\n",
    "plt.ylabel(ylab)\n",
    "\n",
    "# Add title\n",
    "plt.title(title)\n",
    "\n",
    "# After customizing, display the plot\n",
    "plt.show()"
   ]
  },
  {
   "cell_type": "code",
   "execution_count": 116,
   "metadata": {},
   "outputs": [],
   "source": [
    "#Looks like there are some pretty serious outliers in the graph above."
   ]
  },
  {
   "cell_type": "code",
   "execution_count": null,
   "metadata": {},
   "outputs": [],
   "source": []
  }
 ],
 "metadata": {
  "kernelspec": {
   "display_name": "Python 3",
   "language": "python",
   "name": "python3"
  },
  "language_info": {
   "codemirror_mode": {
    "name": "ipython",
    "version": 3
   },
   "file_extension": ".py",
   "mimetype": "text/x-python",
   "name": "python",
   "nbconvert_exporter": "python",
   "pygments_lexer": "ipython3",
   "version": "3.7.3"
  }
 },
 "nbformat": 4,
 "nbformat_minor": 2
}
